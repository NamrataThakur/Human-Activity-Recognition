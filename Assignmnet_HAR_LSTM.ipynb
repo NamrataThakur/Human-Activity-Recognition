{
  "nbformat": 4,
  "nbformat_minor": 0,
  "metadata": {
    "kernelspec": {
      "display_name": "Python 3",
      "language": "python",
      "name": "python3"
    },
    "language_info": {
      "codemirror_mode": {
        "name": "ipython",
        "version": 3
      },
      "file_extension": ".py",
      "mimetype": "text/x-python",
      "name": "python",
      "nbconvert_exporter": "python",
      "pygments_lexer": "ipython3",
      "version": "3.6.1"
    },
    "colab": {
      "name": "Copy of HAR_LSTM.ipynb",
      "provenance": [],
      "collapsed_sections": []
    },
    "accelerator": "TPU"
  },
  "cells": [
    {
      "cell_type": "code",
      "metadata": {
        "id": "p2Id1stP6Oo1",
        "colab_type": "code",
        "colab": {}
      },
      "source": [
        "import pandas as pd\n",
        "import numpy as np\n",
        "\n",
        "%matplotlib inline\n",
        "import matplotlib.pyplot as plt\n",
        "import numpy as np\n",
        "import time"
      ],
      "execution_count": null,
      "outputs": []
    },
    {
      "cell_type": "code",
      "metadata": {
        "id": "aMEcSP9I7o9k",
        "colab_type": "code",
        "colab": {
          "base_uri": "https://localhost:8080/",
          "height": 122
        },
        "outputId": "4a782e21-492f-4d2f-a890-190eda1f2369"
      },
      "source": [
        "from google.colab import drive\n",
        "drive.mount('/content/drive')"
      ],
      "execution_count": null,
      "outputs": [
        {
          "output_type": "stream",
          "text": [
            "Go to this URL in a browser: https://accounts.google.com/o/oauth2/auth?client_id=947318989803-6bn6qk8qdgf4n4g3pfee6491hc0brc4i.apps.googleusercontent.com&redirect_uri=urn%3aietf%3awg%3aoauth%3a2.0%3aoob&response_type=code&scope=email%20https%3a%2f%2fwww.googleapis.com%2fauth%2fdocs.test%20https%3a%2f%2fwww.googleapis.com%2fauth%2fdrive%20https%3a%2f%2fwww.googleapis.com%2fauth%2fdrive.photos.readonly%20https%3a%2f%2fwww.googleapis.com%2fauth%2fpeopleapi.readonly\n",
            "\n",
            "Enter your authorization code:\n",
            "··········\n",
            "Mounted at /content/drive\n"
          ],
          "name": "stdout"
        }
      ]
    },
    {
      "cell_type": "code",
      "metadata": {
        "id": "Ee12LxuU6Oo8",
        "colab_type": "code",
        "colab": {}
      },
      "source": [
        "# Activities are the class labels\n",
        "# It is a 6 class classification\n",
        "ACTIVITIES = {\n",
        "    0: 'WALKING',\n",
        "    1: 'WALKING_UPSTAIRS',\n",
        "    2: 'WALKING_DOWNSTAIRS',\n",
        "    3: 'SITTING',\n",
        "    4: 'STANDING',\n",
        "    5: 'LAYING',\n",
        "}\n",
        "\n",
        "# Utility function to print the confusion matrix\n",
        "def confusion_matrix(Y_true, Y_pred):\n",
        "    Y_true = pd.Series([ACTIVITIES[y] for y in np.argmax(Y_true, axis=1)])\n",
        "    Y_pred = pd.Series([ACTIVITIES[y] for y in np.argmax(Y_pred, axis=1)])\n",
        "\n",
        "    return pd.crosstab(Y_true, Y_pred, rownames=['True'], colnames=['Pred'])"
      ],
      "execution_count": null,
      "outputs": []
    },
    {
      "cell_type": "markdown",
      "metadata": {
        "id": "oUx3aT7n6OpC",
        "colab_type": "text"
      },
      "source": [
        "### Data"
      ]
    },
    {
      "cell_type": "code",
      "metadata": {
        "id": "HWl1SF7Q6OpE",
        "colab_type": "code",
        "colab": {}
      },
      "source": [
        "# Data directory\n",
        "DATADIR = '/content/drive/My Drive/Human Activity Recognition/HAR/UCI_HAR_Dataset'"
      ],
      "execution_count": null,
      "outputs": []
    },
    {
      "cell_type": "code",
      "metadata": {
        "id": "2KeMdjLj6OpO",
        "colab_type": "code",
        "colab": {}
      },
      "source": [
        "# Raw data signals\n",
        "# Signals are from Accelerometer and Gyroscope\n",
        "# The signals are in x,y,z directions\n",
        "# Sensor signals are filtered to have only body acceleration\n",
        "# excluding the acceleration due to gravity\n",
        "# Triaxial acceleration from the accelerometer is total acceleration\n",
        "SIGNALS = [\n",
        "    \"body_acc_x\",\n",
        "    \"body_acc_y\",\n",
        "    \"body_acc_z\",\n",
        "    \"body_gyro_x\",\n",
        "    \"body_gyro_y\",\n",
        "    \"body_gyro_z\",\n",
        "    \"total_acc_x\",\n",
        "    \"total_acc_y\",\n",
        "    \"total_acc_z\"\n",
        "]"
      ],
      "execution_count": null,
      "outputs": []
    },
    {
      "cell_type": "code",
      "metadata": {
        "id": "hqPVcDMv6OpV",
        "colab_type": "code",
        "colab": {}
      },
      "source": [
        "# Utility function to read the data from csv file\n",
        "def _read_csv(filename):\n",
        "    return pd.read_csv(filename, delim_whitespace=True, header=None)\n",
        "\n",
        "# Utility function to load the load\n",
        "def load_signals(subset):\n",
        "    signals_data = []\n",
        "\n",
        "    for signal in SIGNALS:\n",
        "        filename = f'/content/drive/My Drive/Human Activity Recognition/HAR/UCI_HAR_Dataset/{subset}/Inertial Signals/{signal}_{subset}.txt'\n",
        "        signals_data.append(\n",
        "            _read_csv(filename).to_numpy()\n",
        "        ) \n",
        "\n",
        "    # Transpose is used to change the dimensionality of the output,\n",
        "    # aggregating the signals by combination of sample/timestep.\n",
        "    # Resultant shape is (7352 train/2947 test samples, 128 timesteps, 9 signals)\n",
        "    return np.transpose(signals_data, (1, 2, 0))"
      ],
      "execution_count": null,
      "outputs": []
    },
    {
      "cell_type": "code",
      "metadata": {
        "id": "TrSUIxSn6Ope",
        "colab_type": "code",
        "colab": {}
      },
      "source": [
        "\n",
        "def load_y(subset):\n",
        "    \"\"\"\n",
        "    The objective that we are trying to predict is a integer, from 1 to 6,\n",
        "    that represents a human activity. We return a binary representation of \n",
        "    every sample objective as a 6 bits vector using One Hot Encoding\n",
        "    (https://pandas.pydata.org/pandas-docs/stable/generated/pandas.get_dummies.html)\n",
        "    \"\"\"\n",
        "    filename = f'/content/drive/My Drive/Human Activity Recognition/HAR/UCI_HAR_Dataset/{subset}/y_{subset}.txt'\n",
        "    y = _read_csv(filename)[0]\n",
        "\n",
        "    return pd.get_dummies(y).to_numpy()"
      ],
      "execution_count": null,
      "outputs": []
    },
    {
      "cell_type": "code",
      "metadata": {
        "id": "AynmEK_H6Opj",
        "colab_type": "code",
        "colab": {}
      },
      "source": [
        "def load_data():\n",
        "    \"\"\"\n",
        "    Obtain the dataset from multiple files.\n",
        "    Returns: X_train, X_test, y_train, y_test\n",
        "    \"\"\"\n",
        "    X_train, X_test = load_signals('train'), load_signals('test')\n",
        "    y_train, y_test = load_y('train'), load_y('test')\n",
        "\n",
        "    return X_train, X_test, y_train, y_test"
      ],
      "execution_count": null,
      "outputs": []
    },
    {
      "cell_type": "code",
      "metadata": {
        "id": "tlFufrdV6Opq",
        "colab_type": "code",
        "colab": {}
      },
      "source": [
        "# Importing tensorflow\n",
        "np.random.seed(42)\n",
        "import tensorflow as tf\n",
        "tf.random.set_seed(42)"
      ],
      "execution_count": null,
      "outputs": []
    },
    {
      "cell_type": "code",
      "metadata": {
        "id": "gt8p1j1m6Op0",
        "colab_type": "code",
        "colab": {}
      },
      "source": [
        "# Configuring a session\n",
        "session_conf = tf.compat.v1.ConfigProto(\n",
        "    intra_op_parallelism_threads=1,\n",
        "    inter_op_parallelism_threads=1\n",
        ")"
      ],
      "execution_count": null,
      "outputs": []
    },
    {
      "cell_type": "code",
      "metadata": {
        "id": "ImFc4Amo6Op6",
        "colab_type": "code",
        "colab": {
          "base_uri": "https://localhost:8080/",
          "height": 197
        },
        "outputId": "54a95a23-b038-4f5a-b2dc-373157f8dd4e"
      },
      "source": [
        "# Import Keras\n",
        "import tensorflow.keras.backend as K\n",
        "sess =tf.compat.v1.Session(graph=tf.get_default_graph(), config=session_conf)\n",
        "K.set_session(sess)"
      ],
      "execution_count": null,
      "outputs": [
        {
          "output_type": "error",
          "ename": "AttributeError",
          "evalue": "ignored",
          "traceback": [
            "\u001b[0;31m---------------------------------------------------------------------------\u001b[0m",
            "\u001b[0;31mAttributeError\u001b[0m                            Traceback (most recent call last)",
            "\u001b[0;32m<ipython-input-28-7a6bf13d8675>\u001b[0m in \u001b[0;36m<module>\u001b[0;34m()\u001b[0m\n\u001b[1;32m      2\u001b[0m \u001b[0;32mimport\u001b[0m \u001b[0mtensorflow\u001b[0m\u001b[0;34m.\u001b[0m\u001b[0mkeras\u001b[0m\u001b[0;34m.\u001b[0m\u001b[0mbackend\u001b[0m \u001b[0;32mas\u001b[0m \u001b[0mK\u001b[0m\u001b[0;34m\u001b[0m\u001b[0;34m\u001b[0m\u001b[0m\n\u001b[1;32m      3\u001b[0m \u001b[0msess\u001b[0m \u001b[0;34m=\u001b[0m\u001b[0mtf\u001b[0m\u001b[0;34m.\u001b[0m\u001b[0mcompat\u001b[0m\u001b[0;34m.\u001b[0m\u001b[0mv1\u001b[0m\u001b[0;34m.\u001b[0m\u001b[0mSession\u001b[0m\u001b[0;34m(\u001b[0m\u001b[0mgraph\u001b[0m\u001b[0;34m=\u001b[0m\u001b[0mtf\u001b[0m\u001b[0;34m.\u001b[0m\u001b[0mget_default_graph\u001b[0m\u001b[0;34m(\u001b[0m\u001b[0;34m)\u001b[0m\u001b[0;34m,\u001b[0m \u001b[0mconfig\u001b[0m\u001b[0;34m=\u001b[0m\u001b[0msession_conf\u001b[0m\u001b[0;34m)\u001b[0m\u001b[0;34m\u001b[0m\u001b[0;34m\u001b[0m\u001b[0m\n\u001b[0;32m----> 4\u001b[0;31m \u001b[0mK\u001b[0m\u001b[0;34m.\u001b[0m\u001b[0mset_session\u001b[0m\u001b[0;34m(\u001b[0m\u001b[0msess\u001b[0m\u001b[0;34m)\u001b[0m\u001b[0;34m\u001b[0m\u001b[0;34m\u001b[0m\u001b[0m\n\u001b[0m",
            "\u001b[0;31mAttributeError\u001b[0m: module 'tensorflow.keras.backend' has no attribute 'set_session'"
          ]
        }
      ]
    },
    {
      "cell_type": "code",
      "metadata": {
        "id": "6P5FyBcQ6OqB",
        "colab_type": "code",
        "colab": {}
      },
      "source": [
        "# Importing libraries\n",
        "from tensorflow.keras.models import Sequential\n",
        "from tensorflow.keras.layers import LSTM\n",
        "from tensorflow.keras.layers import Dense, Dropout"
      ],
      "execution_count": null,
      "outputs": []
    },
    {
      "cell_type": "code",
      "metadata": {
        "id": "koiACFoHTneP",
        "colab_type": "code",
        "colab": {}
      },
      "source": [
        ""
      ],
      "execution_count": null,
      "outputs": []
    },
    {
      "cell_type": "code",
      "metadata": {
        "id": "jT5yD5d16OqG",
        "colab_type": "code",
        "colab": {}
      },
      "source": [
        "# Initializing parameters\n",
        "epochs = 30\n",
        "batch_size = 16\n",
        "n_hidden = 32"
      ],
      "execution_count": null,
      "outputs": []
    },
    {
      "cell_type": "code",
      "metadata": {
        "id": "3x5VqXid6OqK",
        "colab_type": "code",
        "colab": {}
      },
      "source": [
        "# Utility function to count the number of classes\n",
        "def _count_classes(y):\n",
        "    return len(set([tuple(category) for category in y]))"
      ],
      "execution_count": null,
      "outputs": []
    },
    {
      "cell_type": "code",
      "metadata": {
        "id": "OqeF01AI6OqU",
        "colab_type": "code",
        "colab": {}
      },
      "source": [
        "# Loading the train and test data\n",
        "X_train, X_test, Y_train, Y_test = load_data()"
      ],
      "execution_count": null,
      "outputs": []
    },
    {
      "cell_type": "code",
      "metadata": {
        "id": "kxRoPjAo6Oqb",
        "colab_type": "code",
        "colab": {
          "base_uri": "https://localhost:8080/",
          "height": 85
        },
        "outputId": "4b8ea016-e276-4f87-9093-bb7f2037edef"
      },
      "source": [
        "timesteps = len(X_train[0])\n",
        "input_dim = len(X_train[0][0])\n",
        "n_classes = _count_classes(Y_train)\n",
        "\n",
        "print(timesteps)\n",
        "print(input_dim)\n",
        "print(len(X_train))\n",
        "print(len(X_test))"
      ],
      "execution_count": null,
      "outputs": [
        {
          "output_type": "stream",
          "text": [
            "128\n",
            "9\n",
            "7352\n",
            "2947\n"
          ],
          "name": "stdout"
        }
      ]
    },
    {
      "cell_type": "code",
      "metadata": {
        "id": "QHJZzNKuEqig",
        "colab_type": "code",
        "colab": {
          "base_uri": "https://localhost:8080/",
          "height": 51
        },
        "outputId": "e5b725a9-b14c-41ca-efc6-af59b23f5750"
      },
      "source": [
        "print('Train Data Shape',X_train.shape)\n",
        "print('Test Data Shape',X_test.shape)"
      ],
      "execution_count": null,
      "outputs": [
        {
          "output_type": "stream",
          "text": [
            "Train Data Shape (7352, 128, 9)\n",
            "Test Data Shape (2947, 128, 9)\n"
          ],
          "name": "stdout"
        }
      ]
    },
    {
      "cell_type": "markdown",
      "metadata": {
        "id": "hCwd5ycu6Oql",
        "colab_type": "text"
      },
      "source": [
        "#  Defining the Architecture of LSTM"
      ]
    },
    {
      "cell_type": "markdown",
      "metadata": {
        "id": "weadkEPu3oTI",
        "colab_type": "text"
      },
      "source": [
        "### MODEL 1 : 1 layer LSTM + 32 hidden units + 0.5 dropout + rmsprop"
      ]
    },
    {
      "cell_type": "code",
      "metadata": {
        "id": "hEnwdGXJ6Oqn",
        "colab_type": "code",
        "colab": {
          "base_uri": "https://localhost:8080/",
          "height": 326
        },
        "outputId": "6ed0aa87-3cfd-4569-c3c7-0483d1f30813"
      },
      "source": [
        "# Initiliazing the sequential model with 32 units\n",
        "model = Sequential()\n",
        "# Configuring the parameters\n",
        "model.add(LSTM(32, input_shape=(timesteps, input_dim)))\n",
        "# Adding a dropout layer\n",
        "model.add(Dropout(0.5))\n",
        "# Adding a dense output layer with sigmoid activation\n",
        "model.add(Dense(n_classes, activation='sigmoid'))\n",
        "model.summary()"
      ],
      "execution_count": null,
      "outputs": [
        {
          "output_type": "stream",
          "text": [
            "WARNING:tensorflow:From /usr/local/lib/python3.6/dist-packages/tensorflow/python/ops/resource_variable_ops.py:1666: calling BaseResourceVariable.__init__ (from tensorflow.python.ops.resource_variable_ops) with constraint is deprecated and will be removed in a future version.\n",
            "Instructions for updating:\n",
            "If using Keras pass *_constraint arguments to layers.\n",
            "Model: \"sequential\"\n",
            "_________________________________________________________________\n",
            "Layer (type)                 Output Shape              Param #   \n",
            "=================================================================\n",
            "lstm (LSTM)                  (None, 32)                5376      \n",
            "_________________________________________________________________\n",
            "dropout (Dropout)            (None, 32)                0         \n",
            "_________________________________________________________________\n",
            "dense (Dense)                (None, 6)                 198       \n",
            "=================================================================\n",
            "Total params: 5,574\n",
            "Trainable params: 5,574\n",
            "Non-trainable params: 0\n",
            "_________________________________________________________________\n"
          ],
          "name": "stdout"
        }
      ]
    },
    {
      "cell_type": "code",
      "metadata": {
        "id": "XCT97EQ76Oqs",
        "colab_type": "code",
        "colab": {}
      },
      "source": [
        "# Compiling the model\n",
        "model.compile(loss='categorical_crossentropy',\n",
        "              optimizer='rmsprop',\n",
        "              metrics=['accuracy'])"
      ],
      "execution_count": null,
      "outputs": []
    },
    {
      "cell_type": "code",
      "metadata": {
        "id": "DrOY9BFo6Oqx",
        "colab_type": "code",
        "colab": {
          "base_uri": "https://localhost:8080/",
          "height": 1071
        },
        "outputId": "ec3f41c3-98e8-4b7e-9eb8-24f57df99a5d"
      },
      "source": [
        "# Training the model\n",
        "model.fit(X_train,\n",
        "          Y_train,\n",
        "          batch_size=batch_size,\n",
        "          validation_data=(X_test, Y_test),\n",
        "          epochs=epochs)"
      ],
      "execution_count": null,
      "outputs": [
        {
          "output_type": "stream",
          "text": [
            "Train on 7352 samples, validate on 2947 samples\n",
            "Epoch 1/30\n",
            "7352/7352 [==============================] - 12s 2ms/sample - loss: 1.2162 - acc: 0.5200 - val_loss: 0.9938 - val_acc: 0.5918\n",
            "Epoch 2/30\n",
            "7352/7352 [==============================] - 13s 2ms/sample - loss: 0.8531 - acc: 0.6270 - val_loss: 0.7971 - val_acc: 0.6315\n",
            "Epoch 3/30\n",
            "7352/7352 [==============================] - 12s 2ms/sample - loss: 0.8155 - acc: 0.6473 - val_loss: 0.7995 - val_acc: 0.6563\n",
            "Epoch 4/30\n",
            "7352/7352 [==============================] - 12s 2ms/sample - loss: 0.6661 - acc: 0.7129 - val_loss: 0.7254 - val_acc: 0.7119\n",
            "Epoch 5/30\n",
            "7352/7352 [==============================] - 13s 2ms/sample - loss: 0.5696 - acc: 0.7695 - val_loss: 0.6276 - val_acc: 0.7391\n",
            "Epoch 6/30\n",
            "7352/7352 [==============================] - 13s 2ms/sample - loss: 0.4844 - acc: 0.7881 - val_loss: 0.5341 - val_acc: 0.7438\n",
            "Epoch 7/30\n",
            "7352/7352 [==============================] - 13s 2ms/sample - loss: 0.4248 - acc: 0.8113 - val_loss: 0.4456 - val_acc: 0.7475\n",
            "Epoch 8/30\n",
            "7352/7352 [==============================] - 12s 2ms/sample - loss: 0.4150 - acc: 0.8247 - val_loss: 0.5184 - val_acc: 0.7438\n",
            "Epoch 9/30\n",
            "7352/7352 [==============================] - 12s 2ms/sample - loss: 0.3825 - acc: 0.8411 - val_loss: 0.5413 - val_acc: 0.7791\n",
            "Epoch 10/30\n",
            "7352/7352 [==============================] - 13s 2ms/sample - loss: 0.3491 - acc: 0.8611 - val_loss: 0.4702 - val_acc: 0.8395\n",
            "Epoch 11/30\n",
            "7352/7352 [==============================] - 12s 2ms/sample - loss: 0.3339 - acc: 0.8838 - val_loss: 0.4999 - val_acc: 0.8819\n",
            "Epoch 12/30\n",
            "7352/7352 [==============================] - 12s 2ms/sample - loss: 0.2952 - acc: 0.9121 - val_loss: 0.3070 - val_acc: 0.8938\n",
            "Epoch 13/30\n",
            "7352/7352 [==============================] - 12s 2ms/sample - loss: 0.2623 - acc: 0.9248 - val_loss: 0.8297 - val_acc: 0.8290\n",
            "Epoch 14/30\n",
            "7352/7352 [==============================] - 12s 2ms/sample - loss: 0.2460 - acc: 0.9275 - val_loss: 0.3759 - val_acc: 0.8989\n",
            "Epoch 15/30\n",
            "7352/7352 [==============================] - 12s 2ms/sample - loss: 0.2350 - acc: 0.9280 - val_loss: 0.4710 - val_acc: 0.8853\n",
            "Epoch 16/30\n",
            "7352/7352 [==============================] - 12s 2ms/sample - loss: 0.2034 - acc: 0.9365 - val_loss: 0.4219 - val_acc: 0.8941\n",
            "Epoch 17/30\n",
            "7352/7352 [==============================] - 12s 2ms/sample - loss: 0.1907 - acc: 0.9374 - val_loss: 0.3032 - val_acc: 0.9057\n",
            "Epoch 18/30\n",
            "7352/7352 [==============================] - 12s 2ms/sample - loss: 0.1762 - acc: 0.9358 - val_loss: 0.8045 - val_acc: 0.8337\n",
            "Epoch 19/30\n",
            "7352/7352 [==============================] - 12s 2ms/sample - loss: 0.2148 - acc: 0.9357 - val_loss: 0.3528 - val_acc: 0.9036\n",
            "Epoch 20/30\n",
            "7352/7352 [==============================] - 12s 2ms/sample - loss: 0.1922 - acc: 0.9387 - val_loss: 0.2901 - val_acc: 0.8972\n",
            "Epoch 21/30\n",
            "7352/7352 [==============================] - 12s 2ms/sample - loss: 0.1766 - acc: 0.9422 - val_loss: 0.3298 - val_acc: 0.8996\n",
            "Epoch 22/30\n",
            "7352/7352 [==============================] - 12s 2ms/sample - loss: 0.1896 - acc: 0.9402 - val_loss: 0.3012 - val_acc: 0.9104\n",
            "Epoch 23/30\n",
            "7352/7352 [==============================] - 12s 2ms/sample - loss: 0.1668 - acc: 0.9446 - val_loss: 0.5484 - val_acc: 0.8884\n",
            "Epoch 24/30\n",
            "7352/7352 [==============================] - 12s 2ms/sample - loss: 0.1676 - acc: 0.9457 - val_loss: 0.6930 - val_acc: 0.8789\n",
            "Epoch 25/30\n",
            "7352/7352 [==============================] - 12s 2ms/sample - loss: 0.1758 - acc: 0.9427 - val_loss: 0.5445 - val_acc: 0.8907\n",
            "Epoch 26/30\n",
            "7352/7352 [==============================] - 13s 2ms/sample - loss: 0.1618 - acc: 0.9480 - val_loss: 0.3053 - val_acc: 0.9138\n",
            "Epoch 27/30\n",
            "7352/7352 [==============================] - 12s 2ms/sample - loss: 0.1937 - acc: 0.9418 - val_loss: 0.2993 - val_acc: 0.9006\n",
            "Epoch 28/30\n",
            "7352/7352 [==============================] - 12s 2ms/sample - loss: 0.1613 - acc: 0.9450 - val_loss: 0.3241 - val_acc: 0.9080\n",
            "Epoch 29/30\n",
            "7352/7352 [==============================] - 12s 2ms/sample - loss: 0.1533 - acc: 0.9450 - val_loss: 1.1905 - val_acc: 0.8140\n",
            "Epoch 30/30\n",
            "7352/7352 [==============================] - 12s 2ms/sample - loss: 0.1813 - acc: 0.9397 - val_loss: 0.3226 - val_acc: 0.9030\n"
          ],
          "name": "stdout"
        },
        {
          "output_type": "execute_result",
          "data": {
            "text/plain": [
              "<tensorflow.python.keras.callbacks.History at 0x7fc7001fe438>"
            ]
          },
          "metadata": {
            "tags": []
          },
          "execution_count": 48
        }
      ]
    },
    {
      "cell_type": "code",
      "metadata": {
        "id": "TzpOW7IO6Oq3",
        "colab_type": "code",
        "colab": {
          "base_uri": "https://localhost:8080/",
          "height": 187
        },
        "outputId": "01248a09-4707-4982-f452-455197097f39"
      },
      "source": [
        "# Confusion Matrix\n",
        "print(confusion_matrix(Y_test, model.predict(X_test)))"
      ],
      "execution_count": null,
      "outputs": [
        {
          "output_type": "stream",
          "text": [
            "Pred                LAYING  SITTING  ...  WALKING_DOWNSTAIRS  WALKING_UPSTAIRS\n",
            "True                                 ...                                      \n",
            "LAYING                 513        0  ...                   0                 0\n",
            "SITTING                  0      380  ...                   0                 4\n",
            "STANDING                 0       84  ...                   0                 0\n",
            "WALKING                  0        0  ...                  10                32\n",
            "WALKING_DOWNSTAIRS       0        0  ...                 414                 6\n",
            "WALKING_UPSTAIRS         0        7  ...                  10               452\n",
            "\n",
            "[6 rows x 6 columns]\n"
          ],
          "name": "stdout"
        }
      ]
    },
    {
      "cell_type": "code",
      "metadata": {
        "id": "V2WBYu946Oq9",
        "colab_type": "code",
        "colab": {}
      },
      "source": [
        "score = model.evaluate(X_test, Y_test)"
      ],
      "execution_count": null,
      "outputs": []
    },
    {
      "cell_type": "code",
      "metadata": {
        "id": "0Nb1losv6OrC",
        "colab_type": "code",
        "colab": {
          "base_uri": "https://localhost:8080/",
          "height": 34
        },
        "outputId": "fbc09bed-58d0-4c37-9841-5d39c1b929cd"
      },
      "source": [
        "score"
      ],
      "execution_count": null,
      "outputs": [
        {
          "output_type": "execute_result",
          "data": {
            "text/plain": [
              "[0.3225987807939674, 0.90295213]"
            ]
          },
          "metadata": {
            "tags": []
          },
          "execution_count": 51
        }
      ]
    },
    {
      "cell_type": "markdown",
      "metadata": {
        "id": "YRJwZHG36OrH",
        "colab_type": "text"
      },
      "source": [
        "- With a 1 layer architecture (32 units and 0.5 dropout rates) we got 90.29% accuracy and a loss of 0.32\n"
      ]
    },
    {
      "cell_type": "markdown",
      "metadata": {
        "id": "_6YIEEMrHqW9",
        "colab_type": "text"
      },
      "source": [
        "###MODEL 2: 1 layer LSTM + 64 hidden units + 0.25 dropout + adam"
      ]
    },
    {
      "cell_type": "code",
      "metadata": {
        "id": "elAQ9on3HFMn",
        "colab_type": "code",
        "colab": {
          "base_uri": "https://localhost:8080/",
          "height": 255
        },
        "outputId": "e40144ce-6de7-48b6-9031-84b3e2ad2912"
      },
      "source": [
        "# Initiliazing the sequential model with 64 units\n",
        "model = Sequential()\n",
        "model.add(LSTM(64, input_shape=(timesteps, input_dim)))\n",
        "model.add(Dropout(0.25))\n",
        "model.add(Dense(n_classes, activation='sigmoid'))\n",
        "model.summary()"
      ],
      "execution_count": null,
      "outputs": [
        {
          "output_type": "stream",
          "text": [
            "Model: \"sequential_1\"\n",
            "_________________________________________________________________\n",
            "Layer (type)                 Output Shape              Param #   \n",
            "=================================================================\n",
            "lstm_1 (LSTM)                (None, 64)                18944     \n",
            "_________________________________________________________________\n",
            "dropout_1 (Dropout)          (None, 64)                0         \n",
            "_________________________________________________________________\n",
            "dense_1 (Dense)              (None, 6)                 390       \n",
            "=================================================================\n",
            "Total params: 19,334\n",
            "Trainable params: 19,334\n",
            "Non-trainable params: 0\n",
            "_________________________________________________________________\n"
          ],
          "name": "stdout"
        }
      ]
    },
    {
      "cell_type": "code",
      "metadata": {
        "id": "DwxM0iKJHVsQ",
        "colab_type": "code",
        "colab": {}
      },
      "source": [
        "# Compiling the model\n",
        "model.compile(loss='categorical_crossentropy',\n",
        "              optimizer='adam',\n",
        "              metrics=['accuracy'])"
      ],
      "execution_count": null,
      "outputs": []
    },
    {
      "cell_type": "code",
      "metadata": {
        "id": "TsNEPo_8HV2G",
        "colab_type": "code",
        "colab": {
          "base_uri": "https://localhost:8080/",
          "height": 1071
        },
        "outputId": "8bea752f-d945-4e2a-fa0b-85e5f0a4a2a4"
      },
      "source": [
        "# Training the model\n",
        "model.fit(X_train,\n",
        "          Y_train,\n",
        "          batch_size=batch_size,\n",
        "          validation_data=(X_test, Y_test),\n",
        "          epochs=epochs)"
      ],
      "execution_count": null,
      "outputs": [
        {
          "output_type": "stream",
          "text": [
            "Train on 7352 samples, validate on 2947 samples\n",
            "Epoch 1/30\n",
            "7352/7352 [==============================] - 18s 2ms/sample - loss: 1.1284 - acc: 0.5292 - val_loss: 0.8816 - val_acc: 0.6641\n",
            "Epoch 2/30\n",
            "7352/7352 [==============================] - 18s 2ms/sample - loss: 0.8221 - acc: 0.6628 - val_loss: 0.8014 - val_acc: 0.6953\n",
            "Epoch 3/30\n",
            "7352/7352 [==============================] - 18s 2ms/sample - loss: 0.6092 - acc: 0.7599 - val_loss: 0.6947 - val_acc: 0.7340\n",
            "Epoch 4/30\n",
            "7352/7352 [==============================] - 18s 2ms/sample - loss: 0.4795 - acc: 0.8138 - val_loss: 0.5723 - val_acc: 0.8140\n",
            "Epoch 5/30\n",
            "7352/7352 [==============================] - 18s 2ms/sample - loss: 0.3611 - acc: 0.8849 - val_loss: 0.5265 - val_acc: 0.8171\n",
            "Epoch 6/30\n",
            "7352/7352 [==============================] - 18s 2ms/sample - loss: 0.2388 - acc: 0.9177 - val_loss: 0.4205 - val_acc: 0.8721\n",
            "Epoch 7/30\n",
            "7352/7352 [==============================] - 18s 3ms/sample - loss: 0.2010 - acc: 0.9312 - val_loss: 0.4697 - val_acc: 0.8371\n",
            "Epoch 8/30\n",
            "7352/7352 [==============================] - 18s 2ms/sample - loss: 0.1800 - acc: 0.9387 - val_loss: 0.3345 - val_acc: 0.8979\n",
            "Epoch 9/30\n",
            "7352/7352 [==============================] - 18s 2ms/sample - loss: 0.1630 - acc: 0.9414 - val_loss: 0.2794 - val_acc: 0.9019\n",
            "Epoch 10/30\n",
            "7352/7352 [==============================] - 18s 2ms/sample - loss: 0.1528 - acc: 0.9441 - val_loss: 0.4018 - val_acc: 0.9013\n",
            "Epoch 11/30\n",
            "7352/7352 [==============================] - 20s 3ms/sample - loss: 0.1497 - acc: 0.9450 - val_loss: 0.3589 - val_acc: 0.9002\n",
            "Epoch 12/30\n",
            "7352/7352 [==============================] - 20s 3ms/sample - loss: 0.1460 - acc: 0.9449 - val_loss: 0.3553 - val_acc: 0.8938\n",
            "Epoch 13/30\n",
            "7352/7352 [==============================] - 18s 2ms/sample - loss: 0.1493 - acc: 0.9441 - val_loss: 0.3330 - val_acc: 0.9152\n",
            "Epoch 14/30\n",
            "7352/7352 [==============================] - 18s 2ms/sample - loss: 0.1436 - acc: 0.9479 - val_loss: 0.3307 - val_acc: 0.8999\n",
            "Epoch 15/30\n",
            "7352/7352 [==============================] - 18s 2ms/sample - loss: 0.1483 - acc: 0.9450 - val_loss: 0.3259 - val_acc: 0.9077\n",
            "Epoch 16/30\n",
            "7352/7352 [==============================] - 18s 2ms/sample - loss: 0.1386 - acc: 0.9489 - val_loss: 0.3584 - val_acc: 0.9091\n",
            "Epoch 17/30\n",
            "7352/7352 [==============================] - 18s 2ms/sample - loss: 0.1416 - acc: 0.9465 - val_loss: 0.2541 - val_acc: 0.9114\n",
            "Epoch 18/30\n",
            "7352/7352 [==============================] - 18s 2ms/sample - loss: 0.1278 - acc: 0.9504 - val_loss: 0.4098 - val_acc: 0.9002\n",
            "Epoch 19/30\n",
            "7352/7352 [==============================] - 18s 2ms/sample - loss: 0.1281 - acc: 0.9489 - val_loss: 0.3140 - val_acc: 0.9230\n",
            "Epoch 20/30\n",
            "7352/7352 [==============================] - 18s 2ms/sample - loss: 0.1245 - acc: 0.9516 - val_loss: 0.2573 - val_acc: 0.9223\n",
            "Epoch 21/30\n",
            "7352/7352 [==============================] - 18s 2ms/sample - loss: 0.1260 - acc: 0.9497 - val_loss: 0.2418 - val_acc: 0.9186\n",
            "Epoch 22/30\n",
            "7352/7352 [==============================] - 18s 2ms/sample - loss: 0.1287 - acc: 0.9493 - val_loss: 0.3146 - val_acc: 0.9192\n",
            "Epoch 23/30\n",
            "7352/7352 [==============================] - 18s 2ms/sample - loss: 0.1338 - acc: 0.9506 - val_loss: 0.3168 - val_acc: 0.9152\n",
            "Epoch 24/30\n",
            "7352/7352 [==============================] - 18s 2ms/sample - loss: 0.1340 - acc: 0.9509 - val_loss: 0.3349 - val_acc: 0.9141\n",
            "Epoch 25/30\n",
            "7352/7352 [==============================] - 18s 2ms/sample - loss: 0.1192 - acc: 0.9543 - val_loss: 0.3470 - val_acc: 0.9019\n",
            "Epoch 26/30\n",
            "7352/7352 [==============================] - 18s 2ms/sample - loss: 0.1232 - acc: 0.9528 - val_loss: 0.4828 - val_acc: 0.8826\n",
            "Epoch 27/30\n",
            "7352/7352 [==============================] - 18s 2ms/sample - loss: 0.1205 - acc: 0.9538 - val_loss: 0.2840 - val_acc: 0.9165\n",
            "Epoch 28/30\n",
            "7352/7352 [==============================] - 18s 2ms/sample - loss: 0.1285 - acc: 0.9536 - val_loss: 0.2579 - val_acc: 0.9169\n",
            "Epoch 29/30\n",
            "7352/7352 [==============================] - 18s 2ms/sample - loss: 0.1373 - acc: 0.9460 - val_loss: 0.2707 - val_acc: 0.9145\n",
            "Epoch 30/30\n",
            "7352/7352 [==============================] - 18s 2ms/sample - loss: 0.1213 - acc: 0.9506 - val_loss: 0.3599 - val_acc: 0.9128\n"
          ],
          "name": "stdout"
        },
        {
          "output_type": "execute_result",
          "data": {
            "text/plain": [
              "<tensorflow.python.keras.callbacks.History at 0x7fc6fd386748>"
            ]
          },
          "metadata": {
            "tags": []
          },
          "execution_count": 54
        }
      ]
    },
    {
      "cell_type": "code",
      "metadata": {
        "id": "tOFpqdttKRVl",
        "colab_type": "code",
        "colab": {
          "base_uri": "https://localhost:8080/",
          "height": 187
        },
        "outputId": "ecafe2c7-3100-47ed-b6ee-4bd72234ee46"
      },
      "source": [
        "print(confusion_matrix(Y_test, model.predict(X_test)))"
      ],
      "execution_count": null,
      "outputs": [
        {
          "output_type": "stream",
          "text": [
            "Pred                LAYING  SITTING  ...  WALKING_DOWNSTAIRS  WALKING_UPSTAIRS\n",
            "True                                 ...                                      \n",
            "LAYING                 510        0  ...                   0                 2\n",
            "SITTING                  0      417  ...                   1                 8\n",
            "STANDING                 0      110  ...                   0                 2\n",
            "WALKING                  0        0  ...                  14                 0\n",
            "WALKING_DOWNSTAIRS       0        0  ...                 414                 1\n",
            "WALKING_UPSTAIRS         0        0  ...                   1               448\n",
            "\n",
            "[6 rows x 6 columns]\n"
          ],
          "name": "stdout"
        }
      ]
    },
    {
      "cell_type": "code",
      "metadata": {
        "id": "8IXPtc_4HV5T",
        "colab_type": "code",
        "colab": {}
      },
      "source": [
        "score = model.evaluate(X_test, Y_test)"
      ],
      "execution_count": null,
      "outputs": []
    },
    {
      "cell_type": "code",
      "metadata": {
        "id": "KTe_WwTiHV8p",
        "colab_type": "code",
        "colab": {
          "base_uri": "https://localhost:8080/",
          "height": 34
        },
        "outputId": "5f9208e3-be66-45e9-f9e9-55ca0490dd54"
      },
      "source": [
        "score"
      ],
      "execution_count": null,
      "outputs": [
        {
          "output_type": "execute_result",
          "data": {
            "text/plain": [
              "[0.3598927074421736, 0.9127927]"
            ]
          },
          "metadata": {
            "tags": []
          },
          "execution_count": 56
        }
      ]
    },
    {
      "cell_type": "markdown",
      "metadata": {
        "id": "nAgV3nDvKaf1",
        "colab_type": "text"
      },
      "source": [
        "###MODEL 3 : 2 layer LSTM + 100 hidden units + 0.5 dropout + adam"
      ]
    },
    {
      "cell_type": "code",
      "metadata": {
        "id": "TTfy8iK0J1-8",
        "colab_type": "code",
        "colab": {}
      },
      "source": [
        "n_hidden2 = 100"
      ],
      "execution_count": null,
      "outputs": []
    },
    {
      "cell_type": "code",
      "metadata": {
        "id": "UJe55sKbJnvR",
        "colab_type": "code",
        "colab": {
          "base_uri": "https://localhost:8080/",
          "height": 323
        },
        "outputId": "10626d56-592e-435c-b19f-38c89d8c4ab3"
      },
      "source": [
        "model_2 = Sequential()\n",
        "model_2.add(LSTM(n_hidden2, return_sequences=True, input_shape=(timesteps, input_dim)))\n",
        "model_2.add(Dropout(0.5))\n",
        "model_2.add(LSTM(n_hidden2))\n",
        "model_2.add(Dropout(0.5))\n",
        "model_2.add(Dense(n_classes, activation='sigmoid'))\n",
        "model_2.summary()"
      ],
      "execution_count": null,
      "outputs": [
        {
          "output_type": "stream",
          "text": [
            "Model: \"sequential_4\"\n",
            "_________________________________________________________________\n",
            "Layer (type)                 Output Shape              Param #   \n",
            "=================================================================\n",
            "lstm_4 (LSTM)                (None, 128, 100)          44000     \n",
            "_________________________________________________________________\n",
            "dropout_3 (Dropout)          (None, 128, 100)          0         \n",
            "_________________________________________________________________\n",
            "lstm_5 (LSTM)                (None, 100)               80400     \n",
            "_________________________________________________________________\n",
            "dropout_4 (Dropout)          (None, 100)               0         \n",
            "_________________________________________________________________\n",
            "dense_2 (Dense)              (None, 6)                 606       \n",
            "=================================================================\n",
            "Total params: 125,006\n",
            "Trainable params: 125,006\n",
            "Non-trainable params: 0\n",
            "_________________________________________________________________\n"
          ],
          "name": "stdout"
        }
      ]
    },
    {
      "cell_type": "code",
      "metadata": {
        "id": "yG3xrJMhJn5q",
        "colab_type": "code",
        "colab": {}
      },
      "source": [
        "# Compiling the model\n",
        "model_2.compile(loss='categorical_crossentropy',\n",
        "              optimizer='adam',\n",
        "              metrics=['accuracy'])"
      ],
      "execution_count": null,
      "outputs": []
    },
    {
      "cell_type": "code",
      "metadata": {
        "id": "ugRY22uUJn4k",
        "colab_type": "code",
        "colab": {
          "base_uri": "https://localhost:8080/",
          "height": 1071
        },
        "outputId": "8eeef1dd-2017-436c-8756-f02867de48e9"
      },
      "source": [
        "# Training the model\n",
        "model_2.fit(X_train,\n",
        "          Y_train,\n",
        "          batch_size=batch_size,\n",
        "          validation_data=(X_test, Y_test),\n",
        "          epochs=epochs)"
      ],
      "execution_count": null,
      "outputs": [
        {
          "output_type": "stream",
          "text": [
            "Train on 7352 samples, validate on 2947 samples\n",
            "Epoch 1/30\n",
            "7352/7352 [==============================] - 63s 9ms/sample - loss: 1.2670 - acc: 0.4374 - val_loss: 1.3001 - val_acc: 0.4238\n",
            "Epoch 2/30\n",
            "7352/7352 [==============================] - 64s 9ms/sample - loss: 1.3861 - acc: 0.3721 - val_loss: 1.4212 - val_acc: 0.3400\n",
            "Epoch 3/30\n",
            "7352/7352 [==============================] - 64s 9ms/sample - loss: 1.3230 - acc: 0.4093 - val_loss: 1.1213 - val_acc: 0.4595\n",
            "Epoch 4/30\n",
            "7352/7352 [==============================] - 63s 9ms/sample - loss: 1.4234 - acc: 0.3516 - val_loss: 1.4555 - val_acc: 0.3288\n",
            "Epoch 5/30\n",
            "7352/7352 [==============================] - 64s 9ms/sample - loss: 1.4096 - acc: 0.3598 - val_loss: 1.4732 - val_acc: 0.3180\n",
            "Epoch 6/30\n",
            "7352/7352 [==============================] - 64s 9ms/sample - loss: 1.3084 - acc: 0.4188 - val_loss: 1.1213 - val_acc: 0.5409\n",
            "Epoch 7/30\n",
            "7352/7352 [==============================] - 69s 9ms/sample - loss: 1.3130 - acc: 0.4241 - val_loss: 1.2175 - val_acc: 0.4886\n",
            "Epoch 8/30\n",
            "7352/7352 [==============================] - 64s 9ms/sample - loss: 0.9662 - acc: 0.5314 - val_loss: 0.8231 - val_acc: 0.6291\n",
            "Epoch 9/30\n",
            "7352/7352 [==============================] - 62s 8ms/sample - loss: 0.7280 - acc: 0.6567 - val_loss: 0.6816 - val_acc: 0.6692\n",
            "Epoch 10/30\n",
            "7352/7352 [==============================] - 64s 9ms/sample - loss: 0.7414 - acc: 0.6650 - val_loss: 0.7657 - val_acc: 0.6766\n",
            "Epoch 11/30\n",
            "7352/7352 [==============================] - 63s 9ms/sample - loss: 0.6970 - acc: 0.7009 - val_loss: 0.6671 - val_acc: 0.7190\n",
            "Epoch 12/30\n",
            "7352/7352 [==============================] - 64s 9ms/sample - loss: 0.5706 - acc: 0.7364 - val_loss: 0.5156 - val_acc: 0.7363\n",
            "Epoch 13/30\n",
            "7352/7352 [==============================] - 64s 9ms/sample - loss: 0.4263 - acc: 0.8001 - val_loss: 0.4103 - val_acc: 0.8459\n",
            "Epoch 14/30\n",
            "7352/7352 [==============================] - 64s 9ms/sample - loss: 0.3739 - acc: 0.8698 - val_loss: 0.3637 - val_acc: 0.8612\n",
            "Epoch 15/30\n",
            "7352/7352 [==============================] - 64s 9ms/sample - loss: 0.2725 - acc: 0.9068 - val_loss: 0.2697 - val_acc: 0.9040\n",
            "Epoch 16/30\n",
            "7352/7352 [==============================] - 63s 9ms/sample - loss: 0.2097 - acc: 0.9221 - val_loss: 0.2909 - val_acc: 0.8945\n",
            "Epoch 17/30\n",
            "7352/7352 [==============================] - 64s 9ms/sample - loss: 0.1895 - acc: 0.9304 - val_loss: 0.2662 - val_acc: 0.9084\n",
            "Epoch 18/30\n",
            "7352/7352 [==============================] - 64s 9ms/sample - loss: 0.1737 - acc: 0.9353 - val_loss: 0.2685 - val_acc: 0.9033\n",
            "Epoch 19/30\n",
            "7352/7352 [==============================] - 65s 9ms/sample - loss: 0.1816 - acc: 0.9347 - val_loss: 0.2478 - val_acc: 0.9060\n",
            "Epoch 20/30\n",
            "7352/7352 [==============================] - 66s 9ms/sample - loss: 0.1734 - acc: 0.9276 - val_loss: 0.3600 - val_acc: 0.8911\n",
            "Epoch 21/30\n",
            "7352/7352 [==============================] - 64s 9ms/sample - loss: 0.1620 - acc: 0.9393 - val_loss: 0.2723 - val_acc: 0.9152\n",
            "Epoch 22/30\n",
            "7352/7352 [==============================] - 65s 9ms/sample - loss: 0.1748 - acc: 0.9366 - val_loss: 0.2368 - val_acc: 0.9226\n",
            "Epoch 23/30\n",
            "7352/7352 [==============================] - 64s 9ms/sample - loss: 0.1499 - acc: 0.9427 - val_loss: 0.2866 - val_acc: 0.9158\n",
            "Epoch 24/30\n",
            "7352/7352 [==============================] - 64s 9ms/sample - loss: 0.1407 - acc: 0.9480 - val_loss: 0.2545 - val_acc: 0.9118\n",
            "Epoch 25/30\n",
            "7352/7352 [==============================] - 64s 9ms/sample - loss: 0.1517 - acc: 0.9450 - val_loss: 0.3201 - val_acc: 0.9074\n",
            "Epoch 26/30\n",
            "7352/7352 [==============================] - 63s 9ms/sample - loss: 0.1280 - acc: 0.9508 - val_loss: 0.2419 - val_acc: 0.9220\n",
            "Epoch 27/30\n",
            "7352/7352 [==============================] - 64s 9ms/sample - loss: 0.1385 - acc: 0.9464 - val_loss: 0.2205 - val_acc: 0.9131\n",
            "Epoch 28/30\n",
            "7352/7352 [==============================] - 64s 9ms/sample - loss: 0.1226 - acc: 0.9528 - val_loss: 0.2984 - val_acc: 0.9179\n",
            "Epoch 29/30\n",
            "7352/7352 [==============================] - 65s 9ms/sample - loss: 0.2006 - acc: 0.9346 - val_loss: 0.3386 - val_acc: 0.8985\n",
            "Epoch 30/30\n",
            "7352/7352 [==============================] - 64s 9ms/sample - loss: 0.1503 - acc: 0.9448 - val_loss: 0.2733 - val_acc: 0.9080\n"
          ],
          "name": "stdout"
        },
        {
          "output_type": "execute_result",
          "data": {
            "text/plain": [
              "<tensorflow.python.keras.callbacks.History at 0x7fc6fa02b588>"
            ]
          },
          "metadata": {
            "tags": []
          },
          "execution_count": 63
        }
      ]
    },
    {
      "cell_type": "code",
      "metadata": {
        "id": "IWzWYWXKJn1u",
        "colab_type": "code",
        "colab": {
          "base_uri": "https://localhost:8080/",
          "height": 34
        },
        "outputId": "6eaa0b78-60ca-4c6a-860c-96fd3e631f1f"
      },
      "source": [
        "score_2 = model_2.evaluate(X_test, Y_test)\n",
        "print(score_2)"
      ],
      "execution_count": null,
      "outputs": [
        {
          "output_type": "stream",
          "text": [
            "[0.3598927074421736, 0.9127927]\n"
          ],
          "name": "stdout"
        }
      ]
    },
    {
      "cell_type": "code",
      "metadata": {
        "id": "c45GcykjJnza",
        "colab_type": "code",
        "colab": {
          "base_uri": "https://localhost:8080/",
          "height": 187
        },
        "outputId": "439dfd7a-17fb-4d0b-ea7a-180bb4211c1f"
      },
      "source": [
        "print(confusion_matrix(Y_test, model_2.predict(X_test)))"
      ],
      "execution_count": null,
      "outputs": [
        {
          "output_type": "stream",
          "text": [
            "Pred                LAYING  SITTING  ...  WALKING_DOWNSTAIRS  WALKING_UPSTAIRS\n",
            "True                                 ...                                      \n",
            "LAYING                 537        0  ...                   0                 0\n",
            "SITTING                  0      419  ...                   0                 7\n",
            "STANDING                 0      127  ...                   0                 0\n",
            "WALKING                  0        0  ...                  19                 3\n",
            "WALKING_DOWNSTAIRS       0        0  ...                 415                 2\n",
            "WALKING_UPSTAIRS         0        0  ...                  19               427\n",
            "\n",
            "[6 rows x 6 columns]\n"
          ],
          "name": "stdout"
        }
      ]
    },
    {
      "cell_type": "markdown",
      "metadata": {
        "id": "TUNntGleTGzN",
        "colab_type": "text"
      },
      "source": [
        "###MODEL 4 : 3 layer LSTM + 64 hidden units + 0.5 dropout + adam"
      ]
    },
    {
      "cell_type": "code",
      "metadata": {
        "id": "0Aw5gPgtTHss",
        "colab_type": "code",
        "colab": {
          "base_uri": "https://localhost:8080/",
          "height": 391
        },
        "outputId": "a47d55f2-1ff8-4d24-dbe2-122294b04081"
      },
      "source": [
        "n_hidden3 = 64\n",
        "model_3 = Sequential()\n",
        "model_3.add(LSTM(n_hidden3, return_sequences=True, input_shape=(timesteps, input_dim)))\n",
        "model_3.add(Dropout(0.5))\n",
        "model_3.add(LSTM(n_hidden3, return_sequences=True))\n",
        "model_3.add(Dropout(0.5))\n",
        "model_3.add(LSTM(n_hidden3))\n",
        "model_3.add(Dropout(0.5))\n",
        "model_3.add(Dense(n_classes, activation='sigmoid'))\n",
        "model_3.summary()"
      ],
      "execution_count": null,
      "outputs": [
        {
          "output_type": "stream",
          "text": [
            "Model: \"sequential_9\"\n",
            "_________________________________________________________________\n",
            "Layer (type)                 Output Shape              Param #   \n",
            "=================================================================\n",
            "lstm_16 (LSTM)               (None, 128, 64)           18944     \n",
            "_________________________________________________________________\n",
            "dropout_11 (Dropout)         (None, 128, 64)           0         \n",
            "_________________________________________________________________\n",
            "lstm_17 (LSTM)               (None, 128, 64)           33024     \n",
            "_________________________________________________________________\n",
            "dropout_12 (Dropout)         (None, 128, 64)           0         \n",
            "_________________________________________________________________\n",
            "lstm_18 (LSTM)               (None, 64)                33024     \n",
            "_________________________________________________________________\n",
            "dropout_13 (Dropout)         (None, 64)                0         \n",
            "_________________________________________________________________\n",
            "dense_3 (Dense)              (None, 6)                 390       \n",
            "=================================================================\n",
            "Total params: 85,382\n",
            "Trainable params: 85,382\n",
            "Non-trainable params: 0\n",
            "_________________________________________________________________\n"
          ],
          "name": "stdout"
        }
      ]
    },
    {
      "cell_type": "code",
      "metadata": {
        "id": "DG8wYhG6TH6K",
        "colab_type": "code",
        "colab": {}
      },
      "source": [
        "# Compiling the model\n",
        "model_3.compile(loss='categorical_crossentropy',\n",
        "              optimizer='adam',\n",
        "              metrics=['accuracy'])"
      ],
      "execution_count": null,
      "outputs": []
    },
    {
      "cell_type": "code",
      "metadata": {
        "id": "-FkV8PHlUSZK",
        "colab_type": "code",
        "colab": {
          "base_uri": "https://localhost:8080/",
          "height": 1071
        },
        "outputId": "e39880ce-e206-4eb9-e8d5-74a092b8a468"
      },
      "source": [
        "# Training the model\n",
        "model_3.fit(X_train,\n",
        "          Y_train,\n",
        "          batch_size=batch_size,\n",
        "          validation_data=(X_test, Y_test),\n",
        "          epochs=epochs)"
      ],
      "execution_count": null,
      "outputs": [
        {
          "output_type": "stream",
          "text": [
            "Train on 7352 samples, validate on 2947 samples\n",
            "Epoch 1/30\n",
            "7352/7352 [==============================] - 65s 9ms/sample - loss: 1.1274 - acc: 0.5083 - val_loss: 1.5227 - val_acc: 0.3332\n",
            "Epoch 2/30\n",
            "7352/7352 [==============================] - 66s 9ms/sample - loss: 1.3898 - acc: 0.3541 - val_loss: 1.4192 - val_acc: 0.3414\n",
            "Epoch 3/30\n",
            "7352/7352 [==============================] - 69s 9ms/sample - loss: 1.3766 - acc: 0.3607 - val_loss: 1.4178 - val_acc: 0.3414\n",
            "Epoch 4/30\n",
            "7352/7352 [==============================] - 66s 9ms/sample - loss: 1.3763 - acc: 0.3614 - val_loss: 1.4172 - val_acc: 0.3414\n",
            "Epoch 5/30\n",
            "7352/7352 [==============================] - 67s 9ms/sample - loss: 1.3708 - acc: 0.3675 - val_loss: 1.4127 - val_acc: 0.3434\n",
            "Epoch 6/30\n",
            "7352/7352 [==============================] - 67s 9ms/sample - loss: 1.3740 - acc: 0.3624 - val_loss: 1.4136 - val_acc: 0.3431\n",
            "Epoch 7/30\n",
            "7352/7352 [==============================] - 66s 9ms/sample - loss: 1.3729 - acc: 0.3664 - val_loss: 1.3862 - val_acc: 0.3434\n",
            "Epoch 8/30\n",
            "7352/7352 [==============================] - 67s 9ms/sample - loss: 1.3428 - acc: 0.3887 - val_loss: 1.3534 - val_acc: 0.4058\n",
            "Epoch 9/30\n",
            "7352/7352 [==============================] - 66s 9ms/sample - loss: 1.2906 - acc: 0.4210 - val_loss: 1.3157 - val_acc: 0.4086\n",
            "Epoch 10/30\n",
            "7352/7352 [==============================] - 66s 9ms/sample - loss: 1.3442 - acc: 0.3893 - val_loss: 1.4175 - val_acc: 0.3420\n",
            "Epoch 11/30\n",
            "7352/7352 [==============================] - 65s 9ms/sample - loss: 1.3714 - acc: 0.3671 - val_loss: 1.4159 - val_acc: 0.3420\n",
            "Epoch 12/30\n",
            "7352/7352 [==============================] - 70s 9ms/sample - loss: 1.3737 - acc: 0.3660 - val_loss: 1.4044 - val_acc: 0.3403\n",
            "Epoch 13/30\n",
            "7352/7352 [==============================] - 65s 9ms/sample - loss: 1.3674 - acc: 0.3641 - val_loss: 1.3747 - val_acc: 0.3458\n",
            "Epoch 14/30\n",
            "7352/7352 [==============================] - 65s 9ms/sample - loss: 1.3827 - acc: 0.3696 - val_loss: 1.1229 - val_acc: 0.4951\n",
            "Epoch 15/30\n",
            "7352/7352 [==============================] - 66s 9ms/sample - loss: 1.2100 - acc: 0.4328 - val_loss: 0.9804 - val_acc: 0.5327\n",
            "Epoch 16/30\n",
            "7352/7352 [==============================] - 65s 9ms/sample - loss: 0.8468 - acc: 0.5510 - val_loss: 0.8337 - val_acc: 0.5433\n",
            "Epoch 17/30\n",
            "7352/7352 [==============================] - 65s 9ms/sample - loss: 0.7669 - acc: 0.5544 - val_loss: 0.7681 - val_acc: 0.5382\n",
            "Epoch 18/30\n",
            "7352/7352 [==============================] - 66s 9ms/sample - loss: 0.7652 - acc: 0.5637 - val_loss: 0.7400 - val_acc: 0.6064\n",
            "Epoch 19/30\n",
            "7352/7352 [==============================] - 65s 9ms/sample - loss: 0.7245 - acc: 0.6163 - val_loss: 0.7702 - val_acc: 0.5395\n",
            "Epoch 20/30\n",
            "7352/7352 [==============================] - 66s 9ms/sample - loss: 0.7228 - acc: 0.6057 - val_loss: 0.6971 - val_acc: 0.6206\n",
            "Epoch 21/30\n",
            "7352/7352 [==============================] - 65s 9ms/sample - loss: 0.6632 - acc: 0.6440 - val_loss: 0.6716 - val_acc: 0.6084\n",
            "Epoch 22/30\n",
            "7352/7352 [==============================] - 65s 9ms/sample - loss: 0.6409 - acc: 0.6491 - val_loss: 0.6434 - val_acc: 0.6196\n",
            "Epoch 23/30\n",
            "7352/7352 [==============================] - 65s 9ms/sample - loss: 0.5853 - acc: 0.6579 - val_loss: 0.6400 - val_acc: 0.6040\n",
            "Epoch 24/30\n",
            "7352/7352 [==============================] - 67s 9ms/sample - loss: 0.5233 - acc: 0.6643 - val_loss: 0.5733 - val_acc: 0.6200\n",
            "Epoch 25/30\n",
            "7352/7352 [==============================] - 65s 9ms/sample - loss: 0.4890 - acc: 0.6869 - val_loss: 0.6201 - val_acc: 0.6162\n",
            "Epoch 26/30\n",
            "7352/7352 [==============================] - 65s 9ms/sample - loss: 0.4928 - acc: 0.7201 - val_loss: 0.6526 - val_acc: 0.7452\n",
            "Epoch 27/30\n",
            "7352/7352 [==============================] - 65s 9ms/sample - loss: 0.4990 - acc: 0.7448 - val_loss: 0.7742 - val_acc: 0.6138\n",
            "Epoch 28/30\n",
            "7352/7352 [==============================] - 64s 9ms/sample - loss: 0.5489 - acc: 0.6918 - val_loss: 0.7345 - val_acc: 0.6118\n",
            "Epoch 29/30\n",
            "7352/7352 [==============================] - 65s 9ms/sample - loss: 0.6094 - acc: 0.6536 - val_loss: 0.6180 - val_acc: 0.6980\n",
            "Epoch 30/30\n",
            "7352/7352 [==============================] - 65s 9ms/sample - loss: 0.3961 - acc: 0.7867 - val_loss: 0.5836 - val_acc: 0.7285\n"
          ],
          "name": "stdout"
        },
        {
          "output_type": "execute_result",
          "data": {
            "text/plain": [
              "<tensorflow.python.keras.callbacks.History at 0x7fc6f96e9b38>"
            ]
          },
          "metadata": {
            "tags": []
          },
          "execution_count": 73
        }
      ]
    },
    {
      "cell_type": "code",
      "metadata": {
        "id": "up0gsX2AUSb2",
        "colab_type": "code",
        "colab": {
          "base_uri": "https://localhost:8080/",
          "height": 34
        },
        "outputId": "40f3e27f-25bd-4015-9f8e-cf60597e3568"
      },
      "source": [
        "scores_3 = model_3.evaluate(X_test, Y_test)\n",
        "print(scores_3)"
      ],
      "execution_count": null,
      "outputs": [
        {
          "output_type": "stream",
          "text": [
            "[0.5835877889719886, 0.7285375]\n"
          ],
          "name": "stdout"
        }
      ]
    },
    {
      "cell_type": "code",
      "metadata": {
        "id": "3V6V4tiYUSiK",
        "colab_type": "code",
        "colab": {
          "base_uri": "https://localhost:8080/",
          "height": 187
        },
        "outputId": "dac70926-841a-4fe7-906a-c1011eae7fd3"
      },
      "source": [
        "print(confusion_matrix(Y_test, model_3.predict(X_test)))"
      ],
      "execution_count": null,
      "outputs": [
        {
          "output_type": "stream",
          "text": [
            "Pred                LAYING  SITTING  ...  WALKING_DOWNSTAIRS  WALKING_UPSTAIRS\n",
            "True                                 ...                                      \n",
            "LAYING                 510        2  ...                   0                 0\n",
            "SITTING                  0      444  ...                   0                 0\n",
            "STANDING                 0      140  ...                   0                 0\n",
            "WALKING                  0        0  ...                   0                 0\n",
            "WALKING_DOWNSTAIRS       0        0  ...                   2               386\n",
            "WALKING_UPSTAIRS         0        0  ...                   0               304\n",
            "\n",
            "[6 rows x 6 columns]\n"
          ],
          "name": "stdout"
        }
      ]
    },
    {
      "cell_type": "markdown",
      "metadata": {
        "id": "AfFsrKfVhmt5",
        "colab_type": "text"
      },
      "source": [
        "### Model 5 : 1 layer LSTM + 32 hidden units + 0.5 dropout + Adam "
      ]
    },
    {
      "cell_type": "code",
      "metadata": {
        "id": "n00A90_m3N08",
        "colab_type": "code",
        "colab": {
          "base_uri": "https://localhost:8080/",
          "height": 1000
        },
        "outputId": "9ebd259c-d197-4fea-df55-0fb1ccd44412"
      },
      "source": [
        "model_5 = Sequential()\n",
        "model_5.add(LSTM(32, input_shape = (timesteps, input_dim)))\n",
        "model_5.add(Dropout(0.5))\n",
        "model_5.add(Dense(n_classes, activation='sigmoid'))\n",
        "model_5.summary()\n",
        "\n",
        "model_5.compile(loss = 'categorical_crossentropy', optimizer = 'adam', metrics = ['accuracy'])\n",
        "\n",
        "model_5.fit(X_train,Y_train, epochs = epochs, batch_size = batch_size, validation_data = (X_test, Y_test))\n",
        "\n"
      ],
      "execution_count": null,
      "outputs": [
        {
          "output_type": "stream",
          "text": [
            "Model: \"sequential_2\"\n",
            "_________________________________________________________________\n",
            "Layer (type)                 Output Shape              Param #   \n",
            "=================================================================\n",
            "lstm_2 (LSTM)                (None, 32)                5376      \n",
            "_________________________________________________________________\n",
            "dropout_2 (Dropout)          (None, 32)                0         \n",
            "_________________________________________________________________\n",
            "dense_2 (Dense)              (None, 6)                 198       \n",
            "=================================================================\n",
            "Total params: 5,574\n",
            "Trainable params: 5,574\n",
            "Non-trainable params: 0\n",
            "_________________________________________________________________\n",
            "Epoch 1/30\n",
            "460/460 [==============================] - 17s 37ms/step - loss: 1.2714 - accuracy: 0.4829 - val_loss: 0.9929 - val_accuracy: 0.6047\n",
            "Epoch 2/30\n",
            "460/460 [==============================] - 17s 37ms/step - loss: 0.9292 - accuracy: 0.6099 - val_loss: 1.1225 - val_accuracy: 0.5636\n",
            "Epoch 3/30\n",
            "460/460 [==============================] - 17s 37ms/step - loss: 0.9420 - accuracy: 0.5337 - val_loss: 0.9525 - val_accuracy: 0.4907\n",
            "Epoch 4/30\n",
            "460/460 [==============================] - 17s 37ms/step - loss: 0.9011 - accuracy: 0.5424 - val_loss: 0.8947 - val_accuracy: 0.5602\n",
            "Epoch 5/30\n",
            "460/460 [==============================] - 17s 37ms/step - loss: 0.8453 - accuracy: 0.5858 - val_loss: 0.7785 - val_accuracy: 0.5826\n",
            "Epoch 6/30\n",
            "460/460 [==============================] - 17s 37ms/step - loss: 0.7382 - accuracy: 0.6404 - val_loss: 0.7467 - val_accuracy: 0.5952\n",
            "Epoch 7/30\n",
            "460/460 [==============================] - 17s 37ms/step - loss: 0.7692 - accuracy: 0.6488 - val_loss: 0.9956 - val_accuracy: 0.5965\n",
            "Epoch 8/30\n",
            "460/460 [==============================] - 17s 37ms/step - loss: 0.7535 - accuracy: 0.6615 - val_loss: 0.7496 - val_accuracy: 0.6040\n",
            "Epoch 9/30\n",
            "460/460 [==============================] - 17s 37ms/step - loss: 0.6773 - accuracy: 0.6757 - val_loss: 0.6559 - val_accuracy: 0.6532\n",
            "Epoch 10/30\n",
            "460/460 [==============================] - 17s 37ms/step - loss: 0.6056 - accuracy: 0.7055 - val_loss: 0.6620 - val_accuracy: 0.6861\n",
            "Epoch 11/30\n",
            "460/460 [==============================] - 17s 37ms/step - loss: 0.5763 - accuracy: 0.7346 - val_loss: 0.6435 - val_accuracy: 0.7231\n",
            "Epoch 12/30\n",
            "460/460 [==============================] - 17s 37ms/step - loss: 0.5427 - accuracy: 0.7680 - val_loss: 0.7457 - val_accuracy: 0.7075\n",
            "Epoch 13/30\n",
            "460/460 [==============================] - 17s 37ms/step - loss: 0.5114 - accuracy: 0.7782 - val_loss: 0.5340 - val_accuracy: 0.7496\n",
            "Epoch 14/30\n",
            "460/460 [==============================] - 17s 37ms/step - loss: 0.5123 - accuracy: 0.7862 - val_loss: 0.5042 - val_accuracy: 0.7591\n",
            "Epoch 15/30\n",
            "460/460 [==============================] - 17s 37ms/step - loss: 0.7745 - accuracy: 0.6964 - val_loss: 0.6639 - val_accuracy: 0.7299\n",
            "Epoch 16/30\n",
            "460/460 [==============================] - 17s 37ms/step - loss: 0.5971 - accuracy: 0.7533 - val_loss: 0.5371 - val_accuracy: 0.7730\n",
            "Epoch 17/30\n",
            "460/460 [==============================] - 17s 37ms/step - loss: 0.4451 - accuracy: 0.8006 - val_loss: 0.6718 - val_accuracy: 0.7329\n",
            "Epoch 18/30\n",
            "460/460 [==============================] - 17s 37ms/step - loss: 0.4452 - accuracy: 0.8122 - val_loss: 0.5273 - val_accuracy: 0.7710\n",
            "Epoch 19/30\n",
            "460/460 [==============================] - 17s 37ms/step - loss: 0.4141 - accuracy: 0.8098 - val_loss: 0.5050 - val_accuracy: 0.7811\n",
            "Epoch 20/30\n",
            "460/460 [==============================] - 17s 37ms/step - loss: 0.4031 - accuracy: 0.8226 - val_loss: 0.5282 - val_accuracy: 0.7774\n",
            "Epoch 21/30\n",
            "460/460 [==============================] - 17s 37ms/step - loss: 0.3977 - accuracy: 0.8149 - val_loss: 0.5447 - val_accuracy: 0.7516\n",
            "Epoch 22/30\n",
            "460/460 [==============================] - 17s 37ms/step - loss: 0.3739 - accuracy: 0.8225 - val_loss: 0.5158 - val_accuracy: 0.7808\n",
            "Epoch 23/30\n",
            "460/460 [==============================] - 17s 37ms/step - loss: 0.3731 - accuracy: 0.8188 - val_loss: 0.4925 - val_accuracy: 0.7689\n",
            "Epoch 24/30\n",
            "460/460 [==============================] - 17s 37ms/step - loss: 0.3550 - accuracy: 0.8259 - val_loss: 0.4751 - val_accuracy: 0.7811\n",
            "Epoch 25/30\n",
            "460/460 [==============================] - 17s 37ms/step - loss: 0.3989 - accuracy: 0.8234 - val_loss: 0.4571 - val_accuracy: 0.8079\n",
            "Epoch 26/30\n",
            "460/460 [==============================] - 17s 37ms/step - loss: 0.3565 - accuracy: 0.8361 - val_loss: 0.4691 - val_accuracy: 0.7838\n",
            "Epoch 27/30\n",
            "460/460 [==============================] - 17s 37ms/step - loss: 0.3471 - accuracy: 0.8471 - val_loss: 0.4597 - val_accuracy: 0.8280\n",
            "Epoch 28/30\n",
            "460/460 [==============================] - 17s 37ms/step - loss: 0.2991 - accuracy: 0.9027 - val_loss: 0.3874 - val_accuracy: 0.8775\n",
            "Epoch 29/30\n",
            "460/460 [==============================] - 17s 37ms/step - loss: 0.2749 - accuracy: 0.9193 - val_loss: 0.5308 - val_accuracy: 0.8704\n",
            "Epoch 30/30\n",
            "460/460 [==============================] - 17s 37ms/step - loss: 0.2687 - accuracy: 0.9229 - val_loss: 0.3122 - val_accuracy: 0.8951\n"
          ],
          "name": "stdout"
        },
        {
          "output_type": "execute_result",
          "data": {
            "text/plain": [
              "<tensorflow.python.keras.callbacks.History at 0x7f7e72811e10>"
            ]
          },
          "metadata": {
            "tags": []
          },
          "execution_count": 27
        }
      ]
    },
    {
      "cell_type": "code",
      "metadata": {
        "id": "TkSr9Xye3Nw-",
        "colab_type": "code",
        "colab": {
          "base_uri": "https://localhost:8080/",
          "height": 68
        },
        "outputId": "4c05f9d5-f8c4-4e2d-e4a7-33d37b3eb917"
      },
      "source": [
        "scores_5 = model_5.evaluate(X_test,Y_test,verbose = 1)\n",
        "test5_score = scores_5[0]\n",
        "test5_acc = scores_5[1]\n",
        "\n",
        "print(\"Test Score Model 5 : \", test5_score)\n",
        "print(\"Test Accuracy Model 5 : \", test5_acc)\n"
      ],
      "execution_count": null,
      "outputs": [
        {
          "output_type": "stream",
          "text": [
            "93/93 [==============================] - 1s 8ms/step - loss: 0.3122 - accuracy: 0.8951\n",
            "Test Score Model 5 :  0.3121752440929413\n",
            "Test Accuracy Model 5 :  0.8951476216316223\n"
          ],
          "name": "stdout"
        }
      ]
    },
    {
      "cell_type": "markdown",
      "metadata": {
        "id": "Xu5wY9Jeh95b",
        "colab_type": "text"
      },
      "source": [
        "### Model 6 : 1 layer LSTM + 64 hidden units + 0.75 dropout + Rmsprop"
      ]
    },
    {
      "cell_type": "code",
      "metadata": {
        "id": "fjxJdHkZraiH",
        "colab_type": "code",
        "colab": {
          "base_uri": "https://localhost:8080/",
          "height": 1000
        },
        "outputId": "0b0c19f7-a943-40aa-a404-63a794d1f659"
      },
      "source": [
        "model_6 = Sequential()\n",
        "model_6.add(LSTM(64, input_shape = (timesteps, input_dim)))\n",
        "model_6.add(Dropout(0.75))\n",
        "model_6.add(Dense(n_classes, activation='sigmoid'))\n",
        "model_6.summary()\n",
        "\n",
        "model_6.compile(loss = 'categorical_crossentropy', optimizer = 'rmsprop', metrics = ['accuracy'])\n",
        "\n",
        "model_6_res = model_6.fit(X_train,Y_train, epochs = epochs, batch_size = batch_size, validation_data = (X_test, Y_test))"
      ],
      "execution_count": null,
      "outputs": [
        {
          "output_type": "stream",
          "text": [
            "Model: \"sequential\"\n",
            "_________________________________________________________________\n",
            "Layer (type)                 Output Shape              Param #   \n",
            "=================================================================\n",
            "lstm (LSTM)                  (None, 64)                18944     \n",
            "_________________________________________________________________\n",
            "dropout (Dropout)            (None, 64)                0         \n",
            "_________________________________________________________________\n",
            "dense (Dense)                (None, 6)                 390       \n",
            "=================================================================\n",
            "Total params: 19,334\n",
            "Trainable params: 19,334\n",
            "Non-trainable params: 0\n",
            "_________________________________________________________________\n",
            "Epoch 1/30\n",
            "460/460 [==============================] - 23s 50ms/step - loss: 1.3397 - accuracy: 0.4192 - val_loss: 1.1674 - val_accuracy: 0.4852\n",
            "Epoch 2/30\n",
            "460/460 [==============================] - 24s 51ms/step - loss: 1.0910 - accuracy: 0.5121 - val_loss: 0.9683 - val_accuracy: 0.5901\n",
            "Epoch 3/30\n",
            "460/460 [==============================] - 23s 50ms/step - loss: 0.9138 - accuracy: 0.5756 - val_loss: 1.0483 - val_accuracy: 0.5063\n",
            "Epoch 4/30\n",
            "460/460 [==============================] - 23s 50ms/step - loss: 0.8234 - accuracy: 0.6235 - val_loss: 0.8263 - val_accuracy: 0.6159\n",
            "Epoch 5/30\n",
            "460/460 [==============================] - 23s 50ms/step - loss: 0.7914 - accuracy: 0.6402 - val_loss: 0.7034 - val_accuracy: 0.6559\n",
            "Epoch 6/30\n",
            "460/460 [==============================] - 24s 51ms/step - loss: 0.7627 - accuracy: 0.6791 - val_loss: 0.7523 - val_accuracy: 0.6607\n",
            "Epoch 7/30\n",
            "460/460 [==============================] - 24s 52ms/step - loss: 0.6289 - accuracy: 0.7544 - val_loss: 0.5021 - val_accuracy: 0.7978\n",
            "Epoch 8/30\n",
            "460/460 [==============================] - 24s 51ms/step - loss: 0.5290 - accuracy: 0.7991 - val_loss: 0.8432 - val_accuracy: 0.7404\n",
            "Epoch 9/30\n",
            "460/460 [==============================] - 24s 53ms/step - loss: 0.5208 - accuracy: 0.8137 - val_loss: 0.6378 - val_accuracy: 0.7757\n",
            "Epoch 10/30\n",
            "460/460 [==============================] - 24s 51ms/step - loss: 0.4691 - accuracy: 0.8511 - val_loss: 0.3606 - val_accuracy: 0.8744\n",
            "Epoch 11/30\n",
            "460/460 [==============================] - 24s 51ms/step - loss: 0.4080 - accuracy: 0.8789 - val_loss: 0.5451 - val_accuracy: 0.8551\n",
            "Epoch 12/30\n",
            "460/460 [==============================] - 23s 51ms/step - loss: 0.3384 - accuracy: 0.8984 - val_loss: 0.7464 - val_accuracy: 0.8405\n",
            "Epoch 13/30\n",
            "460/460 [==============================] - 24s 52ms/step - loss: 0.2937 - accuracy: 0.9131 - val_loss: 0.7008 - val_accuracy: 0.8514\n",
            "Epoch 14/30\n",
            "460/460 [==============================] - 24s 51ms/step - loss: 0.2844 - accuracy: 0.9151 - val_loss: 0.3296 - val_accuracy: 0.9030\n",
            "Epoch 15/30\n",
            "460/460 [==============================] - 24s 51ms/step - loss: 0.2453 - accuracy: 0.9249 - val_loss: 0.4866 - val_accuracy: 0.8938\n",
            "Epoch 16/30\n",
            "460/460 [==============================] - 24s 52ms/step - loss: 0.2678 - accuracy: 0.9249 - val_loss: 0.5869 - val_accuracy: 0.8897\n",
            "Epoch 17/30\n",
            "460/460 [==============================] - 23s 50ms/step - loss: 0.2352 - accuracy: 0.9255 - val_loss: 0.3290 - val_accuracy: 0.9070\n",
            "Epoch 18/30\n",
            "460/460 [==============================] - 23s 50ms/step - loss: 0.2583 - accuracy: 0.9267 - val_loss: 0.4757 - val_accuracy: 0.8792\n",
            "Epoch 19/30\n",
            "460/460 [==============================] - 24s 52ms/step - loss: 0.2202 - accuracy: 0.9332 - val_loss: 0.3424 - val_accuracy: 0.8945\n",
            "Epoch 20/30\n",
            "460/460 [==============================] - 23s 51ms/step - loss: 0.2414 - accuracy: 0.9312 - val_loss: 0.4847 - val_accuracy: 0.8843\n",
            "Epoch 21/30\n",
            "460/460 [==============================] - 23s 50ms/step - loss: 0.1938 - accuracy: 0.9369 - val_loss: 0.2449 - val_accuracy: 0.9203\n",
            "Epoch 22/30\n",
            "460/460 [==============================] - 24s 52ms/step - loss: 0.2289 - accuracy: 0.9348 - val_loss: 0.4030 - val_accuracy: 0.9070\n",
            "Epoch 23/30\n",
            "460/460 [==============================] - 25s 54ms/step - loss: 0.2207 - accuracy: 0.9317 - val_loss: 0.5622 - val_accuracy: 0.8894\n",
            "Epoch 24/30\n",
            "460/460 [==============================] - 24s 51ms/step - loss: 0.1853 - accuracy: 0.9395 - val_loss: 0.3953 - val_accuracy: 0.9141\n",
            "Epoch 25/30\n",
            "460/460 [==============================] - 23s 51ms/step - loss: 0.1889 - accuracy: 0.9415 - val_loss: 0.3428 - val_accuracy: 0.9033\n",
            "Epoch 26/30\n",
            "460/460 [==============================] - 23s 50ms/step - loss: 0.2187 - accuracy: 0.9381 - val_loss: 0.5565 - val_accuracy: 0.9087\n",
            "Epoch 27/30\n",
            "460/460 [==============================] - 23s 50ms/step - loss: 0.2013 - accuracy: 0.9397 - val_loss: 0.4866 - val_accuracy: 0.9080\n",
            "Epoch 28/30\n",
            "460/460 [==============================] - 24s 52ms/step - loss: 0.1753 - accuracy: 0.9442 - val_loss: 0.2747 - val_accuracy: 0.9250\n",
            "Epoch 29/30\n",
            "460/460 [==============================] - 24s 51ms/step - loss: 0.2287 - accuracy: 0.9376 - val_loss: 0.3797 - val_accuracy: 0.9199\n",
            "Epoch 30/30\n",
            "460/460 [==============================] - 23s 51ms/step - loss: 0.1768 - accuracy: 0.9437 - val_loss: 0.4127 - val_accuracy: 0.9121\n"
          ],
          "name": "stdout"
        }
      ]
    },
    {
      "cell_type": "code",
      "metadata": {
        "id": "k6Mb3gbBuMJm",
        "colab_type": "code",
        "colab": {
          "base_uri": "https://localhost:8080/",
          "height": 68
        },
        "outputId": "fcd5aab2-cf66-4caa-91b6-ecf12bbc880d"
      },
      "source": [
        "scores_6 = model_6.evaluate(X_test,Y_test,verbose = 1)\n",
        "test6_score = scores_6[0]\n",
        "test6_acc = scores_6[1]\n",
        "\n",
        "print(\"Test Score Model 6 : \", test6_score)\n",
        "print(\"Test Accuracy Model 6 : \", test6_acc)"
      ],
      "execution_count": null,
      "outputs": [
        {
          "output_type": "stream",
          "text": [
            "93/93 [==============================] - 2s 17ms/step - loss: 0.4127 - accuracy: 0.9121\n",
            "Test Score Model 6 :  0.41273969411849976\n",
            "Test Accuracy Model 6 :  0.9121140241622925\n"
          ],
          "name": "stdout"
        }
      ]
    },
    {
      "cell_type": "code",
      "metadata": {
        "id": "dVZvfEF189a1",
        "colab_type": "code",
        "colab": {
          "base_uri": "https://localhost:8080/",
          "height": 279
        },
        "outputId": "379f9b4f-6cb6-4ca8-df5c-639d1e936643"
      },
      "source": [
        "%matplotlib inline\n",
        "import matplotlib.pyplot as plt\n",
        "import numpy as np\n",
        "import time\n",
        "\n",
        "\n",
        "fig = plt.figure( facecolor='c', edgecolor='k')\n",
        "plt.plot( model_6_res.history['val_loss'], 'b', label=\"Validation Loss\")\n",
        "plt.plot( model_6_res.history['loss'], 'r', label=\"Train Loss\")\n",
        "plt.xlabel('Epochs') \n",
        "plt.ylabel('Categorical Crossentropy Loss')\n",
        "plt.legend()\n",
        "plt.grid()\n",
        "plt.show()"
      ],
      "execution_count": null,
      "outputs": [
        {
          "output_type": "display_data",
          "data": {
            "image/png": "[encoded data removed]",
            "text/plain": [
              "<Figure size 432x288 with 1 Axes>"
            ]
          },
          "metadata": {
            "tags": []
          }
        }
      ]
    },
    {
      "cell_type": "markdown",
      "metadata": {
        "id": "a9oPw-v6iNy3",
        "colab_type": "text"
      },
      "source": [
        "### Model 7 : 2 layer LSTM + 64 hidden units + 0.5 dropout + Adam"
      ]
    },
    {
      "cell_type": "code",
      "metadata": {
        "id": "7_Q-HFk4ADR4",
        "colab_type": "code",
        "colab": {
          "base_uri": "https://localhost:8080/",
          "height": 1000
        },
        "outputId": "9cd26df2-5a7c-4401-882d-82254769cdd3"
      },
      "source": [
        "model_7 = Sequential()\n",
        "model_7.add(LSTM(64, return_sequences = True, input_shape = (timesteps, input_dim)))\n",
        "model_7.add(Dropout(0.5))\n",
        "model_7.add(LSTM(64))\n",
        "model_7.add(Dropout(0.5))\n",
        "model_7.add(Dense(n_classes, activation='sigmoid'))\n",
        "model_7.summary()\n",
        "\n",
        "model_7.compile(loss = 'categorical_crossentropy', optimizer = 'adam', metrics = ['accuracy'])\n",
        "\n",
        "model_7_res = model_7.fit(X_train,Y_train, epochs = epochs, batch_size = batch_size, validation_data = (X_test, Y_test))"
      ],
      "execution_count": null,
      "outputs": [
        {
          "output_type": "stream",
          "text": [
            "Model: \"sequential_4\"\n",
            "_________________________________________________________________\n",
            "Layer (type)                 Output Shape              Param #   \n",
            "=================================================================\n",
            "lstm_4 (LSTM)                (None, 128, 64)           18944     \n",
            "_________________________________________________________________\n",
            "dropout_4 (Dropout)          (None, 128, 64)           0         \n",
            "_________________________________________________________________\n",
            "lstm_5 (LSTM)                (None, 64)                33024     \n",
            "_________________________________________________________________\n",
            "dropout_5 (Dropout)          (None, 64)                0         \n",
            "_________________________________________________________________\n",
            "dense_4 (Dense)              (None, 6)                 390       \n",
            "=================================================================\n",
            "Total params: 52,358\n",
            "Trainable params: 52,358\n",
            "Non-trainable params: 0\n",
            "_________________________________________________________________\n",
            "Epoch 1/30\n",
            "460/460 [==============================] - 48s 105ms/step - loss: 1.2740 - accuracy: 0.4533 - val_loss: 1.0214 - val_accuracy: 0.5792\n",
            "Epoch 2/30\n",
            "460/460 [==============================] - 47s 103ms/step - loss: 1.0612 - accuracy: 0.5631 - val_loss: 0.8278 - val_accuracy: 0.6203\n",
            "Epoch 3/30\n",
            "460/460 [==============================] - 47s 103ms/step - loss: 1.0433 - accuracy: 0.5457 - val_loss: 1.2016 - val_accuracy: 0.4581\n",
            "Epoch 4/30\n",
            "460/460 [==============================] - 47s 103ms/step - loss: 0.8918 - accuracy: 0.6062 - val_loss: 0.9031 - val_accuracy: 0.6359\n",
            "Epoch 5/30\n",
            "460/460 [==============================] - 47s 103ms/step - loss: 0.7924 - accuracy: 0.6212 - val_loss: 0.8534 - val_accuracy: 0.6142\n",
            "Epoch 6/30\n",
            "460/460 [==============================] - 47s 102ms/step - loss: 0.8266 - accuracy: 0.6004 - val_loss: 0.9742 - val_accuracy: 0.4910\n",
            "Epoch 7/30\n",
            "460/460 [==============================] - 48s 103ms/step - loss: 0.7487 - accuracy: 0.6245 - val_loss: 0.7386 - val_accuracy: 0.6356\n",
            "Epoch 8/30\n",
            "460/460 [==============================] - 48s 103ms/step - loss: 1.0161 - accuracy: 0.5458 - val_loss: 0.8277 - val_accuracy: 0.6607\n",
            "Epoch 9/30\n",
            "460/460 [==============================] - 47s 103ms/step - loss: 0.6929 - accuracy: 0.6680 - val_loss: 0.7708 - val_accuracy: 0.6695\n",
            "Epoch 10/30\n",
            "460/460 [==============================] - 47s 103ms/step - loss: 0.6467 - accuracy: 0.6868 - val_loss: 0.7530 - val_accuracy: 0.6729\n",
            "Epoch 11/30\n",
            "460/460 [==============================] - 47s 103ms/step - loss: 0.6421 - accuracy: 0.7088 - val_loss: 1.4939 - val_accuracy: 0.3943\n",
            "Epoch 12/30\n",
            "460/460 [==============================] - 47s 102ms/step - loss: 1.1906 - accuracy: 0.4758 - val_loss: 1.0956 - val_accuracy: 0.5646\n",
            "Epoch 13/30\n",
            "460/460 [==============================] - 48s 104ms/step - loss: 1.2578 - accuracy: 0.4489 - val_loss: 0.9983 - val_accuracy: 0.5657\n",
            "Epoch 14/30\n",
            "460/460 [==============================] - 48s 104ms/step - loss: 0.9264 - accuracy: 0.5650 - val_loss: 0.8907 - val_accuracy: 0.5914\n",
            "Epoch 15/30\n",
            "460/460 [==============================] - 48s 104ms/step - loss: 0.7701 - accuracy: 0.6192 - val_loss: 0.7753 - val_accuracy: 0.6271\n",
            "Epoch 16/30\n",
            "460/460 [==============================] - 50s 109ms/step - loss: 0.7134 - accuracy: 0.6462 - val_loss: 0.8337 - val_accuracy: 0.6125\n",
            "Epoch 17/30\n",
            "460/460 [==============================] - 48s 103ms/step - loss: 0.7714 - accuracy: 0.6319 - val_loss: 0.8031 - val_accuracy: 0.5976\n",
            "Epoch 18/30\n",
            "460/460 [==============================] - 47s 103ms/step - loss: 0.6837 - accuracy: 0.6548 - val_loss: 0.8045 - val_accuracy: 0.6213\n",
            "Epoch 19/30\n",
            "460/460 [==============================] - 47s 103ms/step - loss: 0.6682 - accuracy: 0.6658 - val_loss: 0.7226 - val_accuracy: 0.6664\n",
            "Epoch 20/30\n",
            "460/460 [==============================] - 48s 104ms/step - loss: 0.6391 - accuracy: 0.6857 - val_loss: 0.7255 - val_accuracy: 0.6970\n",
            "Epoch 21/30\n",
            "460/460 [==============================] - 48s 103ms/step - loss: 0.6078 - accuracy: 0.7218 - val_loss: 0.6931 - val_accuracy: 0.7068\n",
            "Epoch 22/30\n",
            "460/460 [==============================] - 48s 104ms/step - loss: 0.6800 - accuracy: 0.6946 - val_loss: 0.6650 - val_accuracy: 0.7258\n",
            "Epoch 23/30\n",
            "460/460 [==============================] - 47s 102ms/step - loss: 0.5799 - accuracy: 0.7578 - val_loss: 0.7680 - val_accuracy: 0.7095\n",
            "Epoch 24/30\n",
            "460/460 [==============================] - 47s 103ms/step - loss: 0.5531 - accuracy: 0.7708 - val_loss: 0.6586 - val_accuracy: 0.7645\n",
            "Epoch 25/30\n",
            "460/460 [==============================] - 47s 103ms/step - loss: 0.4227 - accuracy: 0.8207 - val_loss: 0.5876 - val_accuracy: 0.8117\n",
            "Epoch 26/30\n",
            "460/460 [==============================] - 48s 104ms/step - loss: 0.3357 - accuracy: 0.8742 - val_loss: 0.4744 - val_accuracy: 0.8565\n",
            "Epoch 27/30\n",
            "460/460 [==============================] - 47s 103ms/step - loss: 0.2661 - accuracy: 0.9140 - val_loss: 0.4117 - val_accuracy: 0.8728\n",
            "Epoch 28/30\n",
            "460/460 [==============================] - 47s 103ms/step - loss: 0.2299 - accuracy: 0.9249 - val_loss: 0.4040 - val_accuracy: 0.8833\n",
            "Epoch 29/30\n",
            "460/460 [==============================] - 51s 111ms/step - loss: 0.1765 - accuracy: 0.9391 - val_loss: 0.4126 - val_accuracy: 0.8690\n",
            "Epoch 30/30\n",
            "460/460 [==============================] - 47s 103ms/step - loss: 0.1794 - accuracy: 0.9396 - val_loss: 0.3980 - val_accuracy: 0.8921\n"
          ],
          "name": "stdout"
        }
      ]
    },
    {
      "cell_type": "code",
      "metadata": {
        "id": "4uSLw8CfADIj",
        "colab_type": "code",
        "colab": {
          "base_uri": "https://localhost:8080/",
          "height": 330
        },
        "outputId": "c12cecb1-63f8-4ce0-eac1-ae82fce9160a"
      },
      "source": [
        "scores_7 = model_7.evaluate(X_test,Y_test,verbose = 1)\n",
        "test7_score = scores_7[0]\n",
        "test7_acc = scores_7[1]\n",
        "\n",
        "print(\"Test Score Model 7 : \", test7_score)\n",
        "print(\"Test Accuracy Model 7 : \", test7_acc)\n",
        "\n",
        "fig = plt.figure( facecolor='c', edgecolor='k')\n",
        "plt.plot( model_7_res.history['val_loss'], 'b', label=\"Validation Loss\")\n",
        "plt.plot( model_7_res.history['loss'], 'r', label=\"Train Loss\")\n",
        "plt.xlabel('Epochs') \n",
        "plt.ylabel('Categorical Crossentropy Loss')\n",
        "plt.legend()\n",
        "plt.grid()\n",
        "plt.show()"
      ],
      "execution_count": null,
      "outputs": [
        {
          "output_type": "stream",
          "text": [
            "93/93 [==============================] - 3s 32ms/step - loss: 0.3980 - accuracy: 0.8921\n",
            "Test Score Model 7 :  0.3980039358139038\n",
            "Test Accuracy Model 7 :  0.8920936584472656\n"
          ],
          "name": "stdout"
        },
        {
          "output_type": "display_data",
          "data": {
            "image/png": "[encoded data removed]",
            "text/plain": [
              "<Figure size 432x288 with 1 Axes>"
            ]
          },
          "metadata": {
            "tags": []
          }
        }
      ]
    },
    {
      "cell_type": "markdown",
      "metadata": {
        "id": "ir3VALKdiWYi",
        "colab_type": "text"
      },
      "source": [
        "### Model 8 : 2 layer LSTM + 150 hidden units + 0.5 dropout + Adam"
      ]
    },
    {
      "cell_type": "code",
      "metadata": {
        "id": "gn4rmUNIEwC4",
        "colab_type": "code",
        "colab": {
          "base_uri": "https://localhost:8080/",
          "height": 1000
        },
        "outputId": "c2d2eddb-a21a-49b7-b090-7656b8311e01"
      },
      "source": [
        "model_8 = Sequential()\n",
        "model_8.add(LSTM(150, return_sequences = True, input_shape = (timesteps, input_dim)))\n",
        "model_8.add(Dropout(0.5))\n",
        "model_8.add(LSTM(150))\n",
        "model_8.add(Dropout(0.5))\n",
        "model_8.add(Dense(n_classes, activation='sigmoid'))\n",
        "model_8.summary()\n",
        "\n",
        "model_8.compile(loss = 'categorical_crossentropy', optimizer = 'adam', metrics = ['accuracy'])\n",
        "\n",
        "model_8_res = model_8.fit(X_train,Y_train, epochs = epochs, batch_size = batch_size, validation_data = (X_test, Y_test))"
      ],
      "execution_count": null,
      "outputs": [
        {
          "output_type": "stream",
          "text": [
            "Model: \"sequential_5\"\n",
            "_________________________________________________________________\n",
            "Layer (type)                 Output Shape              Param #   \n",
            "=================================================================\n",
            "lstm_6 (LSTM)                (None, 128, 150)          96000     \n",
            "_________________________________________________________________\n",
            "dropout_6 (Dropout)          (None, 128, 150)          0         \n",
            "_________________________________________________________________\n",
            "lstm_7 (LSTM)                (None, 150)               180600    \n",
            "_________________________________________________________________\n",
            "dropout_7 (Dropout)          (None, 150)               0         \n",
            "_________________________________________________________________\n",
            "dense_5 (Dense)              (None, 6)                 906       \n",
            "=================================================================\n",
            "Total params: 277,506\n",
            "Trainable params: 277,506\n",
            "Non-trainable params: 0\n",
            "_________________________________________________________________\n",
            "Epoch 1/30\n",
            "460/460 [==============================] - 110s 239ms/step - loss: 1.3519 - accuracy: 0.3980 - val_loss: 1.0156 - val_accuracy: 0.4971\n",
            "Epoch 2/30\n",
            "460/460 [==============================] - 111s 241ms/step - loss: 0.8885 - accuracy: 0.5782 - val_loss: 0.8549 - val_accuracy: 0.5484\n",
            "Epoch 3/30\n",
            "460/460 [==============================] - 110s 240ms/step - loss: 0.8445 - accuracy: 0.5934 - val_loss: 0.8490 - val_accuracy: 0.5881\n",
            "Epoch 4/30\n",
            "460/460 [==============================] - 113s 247ms/step - loss: 0.6607 - accuracy: 0.7038 - val_loss: 0.9882 - val_accuracy: 0.6149\n",
            "Epoch 5/30\n",
            "460/460 [==============================] - 114s 248ms/step - loss: 0.5420 - accuracy: 0.7777 - val_loss: 0.3919 - val_accuracy: 0.8666\n",
            "Epoch 6/30\n",
            "460/460 [==============================] - 113s 245ms/step - loss: 0.3636 - accuracy: 0.8841 - val_loss: 0.3459 - val_accuracy: 0.8867\n",
            "Epoch 7/30\n",
            "460/460 [==============================] - 114s 247ms/step - loss: 0.2776 - accuracy: 0.8969 - val_loss: 0.3622 - val_accuracy: 0.8826\n",
            "Epoch 8/30\n",
            "460/460 [==============================] - 113s 246ms/step - loss: 0.3126 - accuracy: 0.8901 - val_loss: 0.4372 - val_accuracy: 0.8419\n",
            "Epoch 9/30\n",
            "460/460 [==============================] - 113s 245ms/step - loss: 0.1771 - accuracy: 0.9327 - val_loss: 0.3701 - val_accuracy: 0.8880\n",
            "Epoch 10/30\n",
            "460/460 [==============================] - 114s 247ms/step - loss: 0.2076 - accuracy: 0.9279 - val_loss: 0.2863 - val_accuracy: 0.9077\n",
            "Epoch 11/30\n",
            "460/460 [==============================] - 112s 244ms/step - loss: 0.1703 - accuracy: 0.9369 - val_loss: 0.3109 - val_accuracy: 0.8962\n",
            "Epoch 12/30\n",
            "460/460 [==============================] - 112s 243ms/step - loss: 0.1707 - accuracy: 0.9387 - val_loss: 0.2067 - val_accuracy: 0.9179\n",
            "Epoch 13/30\n",
            "460/460 [==============================] - 115s 249ms/step - loss: 0.1292 - accuracy: 0.9529 - val_loss: 0.4645 - val_accuracy: 0.8907\n",
            "Epoch 14/30\n",
            "460/460 [==============================] - 113s 245ms/step - loss: 0.4427 - accuracy: 0.8288 - val_loss: 0.2161 - val_accuracy: 0.9152\n",
            "Epoch 15/30\n",
            "460/460 [==============================] - 112s 244ms/step - loss: 0.1818 - accuracy: 0.9376 - val_loss: 0.1819 - val_accuracy: 0.9291\n",
            "Epoch 16/30\n",
            "460/460 [==============================] - 114s 247ms/step - loss: 0.1375 - accuracy: 0.9504 - val_loss: 0.1841 - val_accuracy: 0.9304\n",
            "Epoch 17/30\n",
            "460/460 [==============================] - 112s 244ms/step - loss: 0.1209 - accuracy: 0.9533 - val_loss: 0.1694 - val_accuracy: 0.9311\n",
            "Epoch 18/30\n",
            "460/460 [==============================] - 112s 244ms/step - loss: 0.1652 - accuracy: 0.9396 - val_loss: 0.1853 - val_accuracy: 0.9270\n",
            "Epoch 19/30\n",
            "460/460 [==============================] - 113s 245ms/step - loss: 0.1420 - accuracy: 0.9486 - val_loss: 0.2631 - val_accuracy: 0.9165\n",
            "Epoch 20/30\n",
            "460/460 [==============================] - 112s 245ms/step - loss: 0.1276 - accuracy: 0.9536 - val_loss: 0.1830 - val_accuracy: 0.9270\n",
            "Epoch 21/30\n",
            "460/460 [==============================] - 114s 247ms/step - loss: 0.1536 - accuracy: 0.9468 - val_loss: 0.3036 - val_accuracy: 0.8816\n",
            "Epoch 22/30\n",
            "460/460 [==============================] - 114s 248ms/step - loss: 0.1555 - accuracy: 0.9446 - val_loss: 0.2441 - val_accuracy: 0.9145\n",
            "Epoch 23/30\n",
            "460/460 [==============================] - 113s 247ms/step - loss: 0.1231 - accuracy: 0.9533 - val_loss: 0.1925 - val_accuracy: 0.9301\n",
            "Epoch 24/30\n",
            "460/460 [==============================] - 113s 246ms/step - loss: 0.1383 - accuracy: 0.9495 - val_loss: 0.1944 - val_accuracy: 0.9281\n",
            "Epoch 25/30\n",
            "460/460 [==============================] - 113s 246ms/step - loss: 0.1291 - accuracy: 0.9498 - val_loss: 0.1686 - val_accuracy: 0.9287\n",
            "Epoch 26/30\n",
            "460/460 [==============================] - 113s 247ms/step - loss: 0.2046 - accuracy: 0.9339 - val_loss: 0.2919 - val_accuracy: 0.9087\n",
            "Epoch 27/30\n",
            "460/460 [==============================] - 116s 253ms/step - loss: 0.1588 - accuracy: 0.9457 - val_loss: 0.2656 - val_accuracy: 0.9253\n",
            "Epoch 28/30\n",
            "460/460 [==============================] - 113s 246ms/step - loss: 0.1244 - accuracy: 0.9512 - val_loss: 0.2296 - val_accuracy: 0.9189\n",
            "Epoch 29/30\n",
            "460/460 [==============================] - 113s 247ms/step - loss: 0.1223 - accuracy: 0.9512 - val_loss: 0.2354 - val_accuracy: 0.9287\n",
            "Epoch 30/30\n",
            "460/460 [==============================] - 113s 246ms/step - loss: 0.1371 - accuracy: 0.9493 - val_loss: 0.2744 - val_accuracy: 0.9182\n"
          ],
          "name": "stdout"
        }
      ]
    },
    {
      "cell_type": "code",
      "metadata": {
        "id": "ACzrRpgYEv9J",
        "colab_type": "code",
        "colab": {
          "base_uri": "https://localhost:8080/",
          "height": 332
        },
        "outputId": "009a1975-a27b-4a97-fe68-9f9b75256600"
      },
      "source": [
        "scores_8 = model_8.evaluate(X_test,Y_test,verbose = 1)\n",
        "test8_score = scores_8[0]\n",
        "test8_acc = scores_8[1]\n",
        "\n",
        "print(\"Test Score Model 8 : \", test8_score)\n",
        "print(\"Test Accuracy Model 8 : \", test8_acc)\n",
        "\n",
        "fig = plt.figure( facecolor='c', edgecolor='k')\n",
        "plt.plot( model_8_res.history['val_loss'], 'b', label=\"Validation Loss\")\n",
        "plt.plot( model_8_res.history['loss'], 'r', label=\"Train Loss\")\n",
        "plt.xlabel('Epochs') \n",
        "plt.ylabel('Categorical Crossentropy Loss')\n",
        "plt.legend()\n",
        "plt.grid()\n",
        "plt.show()"
      ],
      "execution_count": null,
      "outputs": [
        {
          "output_type": "stream",
          "text": [
            "93/93 [==============================] - 7s 75ms/step - loss: 0.2744 - accuracy: 0.9182\n",
            "Test Score Model 8 :  0.2743934988975525\n",
            "Test Accuracy Model 8 :  0.9182218909263611\n"
          ],
          "name": "stdout"
        },
        {
          "output_type": "display_data",
          "data": {
            "image/png": "[encoded data removed]",
            "text/plain": [
              "<Figure size 432x288 with 1 Axes>"
            ]
          },
          "metadata": {
            "tags": []
          }
        }
      ]
    },
    {
      "cell_type": "markdown",
      "metadata": {
        "id": "6uZNylrziia3",
        "colab_type": "text"
      },
      "source": [
        "### Model 9 : 2 layers LSTM + 200 hidden units + 0.5 dropout + Adam"
      ]
    },
    {
      "cell_type": "code",
      "metadata": {
        "id": "Vn3yKlwjEv1u",
        "colab_type": "code",
        "colab": {
          "base_uri": "https://localhost:8080/",
          "height": 1000
        },
        "outputId": "a6bc1e7a-c9ee-4e23-baca-7e965fdacf84"
      },
      "source": [
        "model_9 = Sequential()\n",
        "model_9.add(LSTM(200, return_sequences = True, input_shape = (timesteps, input_dim)))\n",
        "model_9.add(Dropout(0.5))\n",
        "model_9.add(LSTM(200))\n",
        "model_9.add(Dropout(0.5))\n",
        "model_9.add(Dense(n_classes, activation='sigmoid'))\n",
        "model_9.summary()\n",
        "\n",
        "model_9.compile(loss = 'categorical_crossentropy', optimizer = 'adam', metrics = ['accuracy'])\n",
        "\n",
        "model_9_res = model_9.fit(X_train,Y_train, epochs = epochs, batch_size = batch_size, validation_data = (X_test, Y_test))"
      ],
      "execution_count": null,
      "outputs": [
        {
          "output_type": "stream",
          "text": [
            "Model: \"sequential_6\"\n",
            "_________________________________________________________________\n",
            "Layer (type)                 Output Shape              Param #   \n",
            "=================================================================\n",
            "lstm_8 (LSTM)                (None, 128, 200)          168000    \n",
            "_________________________________________________________________\n",
            "dropout_8 (Dropout)          (None, 128, 200)          0         \n",
            "_________________________________________________________________\n",
            "lstm_9 (LSTM)                (None, 200)               320800    \n",
            "_________________________________________________________________\n",
            "dropout_9 (Dropout)          (None, 200)               0         \n",
            "_________________________________________________________________\n",
            "dense_6 (Dense)              (None, 6)                 1206      \n",
            "=================================================================\n",
            "Total params: 490,006\n",
            "Trainable params: 490,006\n",
            "Non-trainable params: 0\n",
            "_________________________________________________________________\n",
            "Epoch 1/30\n",
            "460/460 [==============================] - 191s 416ms/step - loss: 1.2529 - accuracy: 0.4353 - val_loss: 1.7743 - val_accuracy: 0.4466\n",
            "Epoch 2/30\n",
            "460/460 [==============================] - 189s 412ms/step - loss: 1.3505 - accuracy: 0.3930 - val_loss: 1.4393 - val_accuracy: 0.3373\n",
            "Epoch 3/30\n",
            "460/460 [==============================] - 194s 423ms/step - loss: 1.4072 - accuracy: 0.3570 - val_loss: 1.4384 - val_accuracy: 0.3373\n",
            "Epoch 4/30\n",
            "460/460 [==============================] - 194s 423ms/step - loss: 1.3832 - accuracy: 0.3588 - val_loss: 1.4376 - val_accuracy: 0.3373\n",
            "Epoch 5/30\n",
            "460/460 [==============================] - 193s 419ms/step - loss: 1.3824 - accuracy: 0.3591 - val_loss: 1.4292 - val_accuracy: 0.3373\n",
            "Epoch 6/30\n",
            "460/460 [==============================] - 194s 421ms/step - loss: 1.3784 - accuracy: 0.3610 - val_loss: 1.4329 - val_accuracy: 0.3373\n",
            "Epoch 7/30\n",
            "460/460 [==============================] - 192s 418ms/step - loss: 1.3782 - accuracy: 0.3625 - val_loss: 1.4354 - val_accuracy: 0.3376\n",
            "Epoch 8/30\n",
            "460/460 [==============================] - 193s 419ms/step - loss: 1.3765 - accuracy: 0.3637 - val_loss: 1.4357 - val_accuracy: 0.3376\n",
            "Epoch 9/30\n",
            "460/460 [==============================] - 191s 415ms/step - loss: 1.3772 - accuracy: 0.3634 - val_loss: 1.4309 - val_accuracy: 0.3376\n",
            "Epoch 10/30\n",
            "460/460 [==============================] - 189s 411ms/step - loss: 1.3766 - accuracy: 0.3656 - val_loss: 1.4346 - val_accuracy: 0.3376\n",
            "Epoch 11/30\n",
            "460/460 [==============================] - 188s 409ms/step - loss: 1.3749 - accuracy: 0.3641 - val_loss: 1.4327 - val_accuracy: 0.3376\n",
            "Epoch 12/30\n",
            "460/460 [==============================] - 188s 409ms/step - loss: 1.3765 - accuracy: 0.3643 - val_loss: 1.4332 - val_accuracy: 0.3376\n",
            "Epoch 13/30\n",
            "460/460 [==============================] - 187s 407ms/step - loss: 1.3755 - accuracy: 0.3648 - val_loss: 1.4317 - val_accuracy: 0.3376\n",
            "Epoch 14/30\n",
            "460/460 [==============================] - 188s 409ms/step - loss: 1.3771 - accuracy: 0.3651 - val_loss: 1.4292 - val_accuracy: 0.3376\n",
            "Epoch 15/30\n",
            "460/460 [==============================] - 187s 406ms/step - loss: 1.3736 - accuracy: 0.3652 - val_loss: 1.4244 - val_accuracy: 0.3390\n",
            "Epoch 16/30\n",
            "460/460 [==============================] - 189s 410ms/step - loss: 1.3766 - accuracy: 0.3652 - val_loss: 1.4303 - val_accuracy: 0.3376\n",
            "Epoch 17/30\n",
            "460/460 [==============================] - 190s 413ms/step - loss: 1.3754 - accuracy: 0.3648 - val_loss: 1.4331 - val_accuracy: 0.3373\n",
            "Epoch 18/30\n",
            "460/460 [==============================] - 191s 415ms/step - loss: 1.3756 - accuracy: 0.3648 - val_loss: 1.4298 - val_accuracy: 0.3373\n",
            "Epoch 19/30\n",
            "460/460 [==============================] - 190s 413ms/step - loss: 1.3987 - accuracy: 0.3588 - val_loss: 1.5690 - val_accuracy: 0.1822\n",
            "Epoch 20/30\n",
            "460/460 [==============================] - 190s 412ms/step - loss: 1.5577 - accuracy: 0.2947 - val_loss: 1.4211 - val_accuracy: 0.3366\n",
            "Epoch 21/30\n",
            "460/460 [==============================] - 193s 420ms/step - loss: 1.3603 - accuracy: 0.3682 - val_loss: 1.4264 - val_accuracy: 0.3393\n",
            "Epoch 22/30\n",
            "460/460 [==============================] - 190s 413ms/step - loss: 1.3615 - accuracy: 0.3670 - val_loss: 1.4094 - val_accuracy: 0.3393\n",
            "Epoch 23/30\n",
            "460/460 [==============================] - 190s 413ms/step - loss: 1.5788 - accuracy: 0.2918 - val_loss: 1.7389 - val_accuracy: 0.2087\n",
            "Epoch 24/30\n",
            "460/460 [==============================] - 192s 418ms/step - loss: 1.5750 - accuracy: 0.3088 - val_loss: 1.3725 - val_accuracy: 0.4208\n",
            "Epoch 25/30\n",
            "460/460 [==============================] - 190s 413ms/step - loss: 1.3750 - accuracy: 0.3721 - val_loss: 1.4324 - val_accuracy: 0.3390\n",
            "Epoch 26/30\n",
            "460/460 [==============================] - 189s 410ms/step - loss: 1.3852 - accuracy: 0.3658 - val_loss: 1.4335 - val_accuracy: 0.3390\n",
            "Epoch 27/30\n",
            "460/460 [==============================] - 190s 414ms/step - loss: 1.3795 - accuracy: 0.3659 - val_loss: 1.4355 - val_accuracy: 0.3393\n",
            "Epoch 28/30\n",
            "460/460 [==============================] - 187s 408ms/step - loss: 1.3802 - accuracy: 0.3672 - val_loss: 1.4163 - val_accuracy: 0.3393\n",
            "Epoch 29/30\n",
            "460/460 [==============================] - 189s 410ms/step - loss: 1.3624 - accuracy: 0.3855 - val_loss: 1.3490 - val_accuracy: 0.3990\n",
            "Epoch 30/30\n",
            "460/460 [==============================] - 188s 409ms/step - loss: 1.7649 - accuracy: 0.2459 - val_loss: 1.7839 - val_accuracy: 0.1822\n"
          ],
          "name": "stdout"
        }
      ]
    },
    {
      "cell_type": "code",
      "metadata": {
        "id": "gfJ00sSaZoVE",
        "colab_type": "code",
        "colab": {
          "base_uri": "https://localhost:8080/",
          "height": 330
        },
        "outputId": "7965b7f0-5e31-44a1-c724-9fcd61e62b48"
      },
      "source": [
        "scores_9 = model_9.evaluate(X_test,Y_test,verbose = 1)\n",
        "test9_score = scores_9[0]\n",
        "test9_acc = scores_9[1]\n",
        "\n",
        "print(\"Test Score Model 9 : \", test9_score)\n",
        "print(\"Test Accuracy Model 9 : \", test9_acc)\n",
        "\n",
        "fig = plt.figure( facecolor='c', edgecolor='k')\n",
        "plt.plot( model_9_res.history['val_loss'], 'b', label=\"Validation Loss\")\n",
        "plt.plot( model_9_res.history['loss'], 'r', label=\"Train Loss\")\n",
        "plt.xlabel('Epochs') \n",
        "plt.ylabel('Categorical Crossentropy Loss')\n",
        "plt.legend()\n",
        "plt.grid()\n",
        "plt.show()"
      ],
      "execution_count": null,
      "outputs": [
        {
          "output_type": "stream",
          "text": [
            "93/93 [==============================] - 14s 151ms/step - loss: 1.7839 - accuracy: 0.1822\n",
            "Test Score Model 9 :  1.7838802337646484\n",
            "Test Accuracy Model 9 :  0.18221920728683472\n"
          ],
          "name": "stdout"
        },
        {
          "output_type": "display_data",
          "data": {
            "image/png": "[encoded data removed]",
            "text/plain": [
              "<Figure size 432x288 with 1 Axes>"
            ]
          },
          "metadata": {
            "tags": []
          }
        }
      ]
    },
    {
      "cell_type": "code",
      "metadata": {
        "id": "kvg6VSgcZoOh",
        "colab_type": "code",
        "colab": {}
      },
      "source": [
        ""
      ],
      "execution_count": null,
      "outputs": []
    },
    {
      "cell_type": "markdown",
      "metadata": {
        "id": "rsNGTd0HlDsG",
        "colab_type": "text"
      },
      "source": [
        "#### Divide and Conquer Method :"
      ]
    },
    {
      "cell_type": "code",
      "metadata": {
        "id": "9x4TqER8CDXX",
        "colab_type": "code",
        "colab": {}
      },
      "source": [
        "\n",
        "# Importing libraries\n",
        "from keras.models import Sequential\n",
        "from keras.layers import LSTM,Dense,Dropout,Activation,BatchNormalization,Conv2D,Flatten,TimeDistributed,Conv1D,MaxPool1D\n",
        "from keras.regularizers import *\n",
        "from keras.callbacks import LearningRateScheduler,TerminateOnNaN\n",
        "from keras.wrappers.scikit_learn import KerasClassifier\n",
        "from sklearn.model_selection import GridSearchCV\n",
        "from keras.initializers import VarianceScaling\n",
        "from keras.optimizers import *"
      ],
      "execution_count": null,
      "outputs": []
    },
    {
      "cell_type": "markdown",
      "metadata": {
        "id": "WXLuCnJOlOip",
        "colab_type": "text"
      },
      "source": [
        "##### Model 1 : Binary Classifier to classify Static and Dynamic Classes :"
      ]
    },
    {
      "cell_type": "code",
      "metadata": {
        "id": "KuR4hp_R-Zth",
        "colab_type": "code",
        "colab": {}
      },
      "source": [
        "def _read_csv(filename):\n",
        "    return pd.read_csv(filename, delim_whitespace=True, header=None)\n",
        "\n",
        "# Utility function to load the load\n",
        "def load_signals(subset):\n",
        "    signals_data = []\n",
        "\n",
        "    for signal in SIGNALS:\n",
        "        filename = f'/content/drive/My Drive/Human Activity Recognition/HAR/UCI_HAR_Dataset/{subset}/Inertial Signals/{signal}_{subset}.txt'\n",
        "        signals_data.append(\n",
        "            _read_csv(filename).to_numpy()\n",
        "        ) \n",
        "\n",
        "    # Transpose is used to change the dimensionality of the output,\n",
        "    # aggregating the signals by combination of sample/timestep.\n",
        "    # Resultant shape is (7352 train/2947 test samples, 128 timesteps, 9 signals)\n",
        "    return np.transpose(signals_data, (1, 2, 0))"
      ],
      "execution_count": null,
      "outputs": []
    },
    {
      "cell_type": "code",
      "metadata": {
        "id": "7DODJYSB9ajC",
        "colab_type": "code",
        "colab": {}
      },
      "source": [
        "\n",
        "def load_y_binary(subset):\n",
        "    \"\"\"\n",
        "    The objective that we are trying to predict is a integer, from 1 to 6,\n",
        "    that represents a human activity. We return a binary representation of \n",
        "    every sample objective as a 6 bits vector using One Hot Encoding\n",
        "    (https://pandas.pydata.org/pandas-docs/stable/generated/pandas.get_dummies.html)\n",
        "    \"\"\"\n",
        "    filename = f'/content/drive/My Drive/Human Activity Recognition/HAR/UCI_HAR_Dataset/{subset}/y_{subset}.txt'\n",
        "    y = _read_csv(filename)[0]\n",
        "    #print(y)\n",
        "    y[y<4] = 0\n",
        "    y[y>3] = 1\n",
        "    #print(y)\n",
        "    return pd.get_dummies(y).to_numpy()\n",
        "\n",
        "def load_data_binary():\n",
        "    \"\"\"\n",
        "    Obtain the dataset from multiple files.\n",
        "    Returns: X_train, X_test, y_train, y_test\n",
        "    \"\"\"\n",
        "    X_train, X_test = load_signals('train'), load_signals('test')\n",
        "    y_train,y_test = load_y_binary('train'),load_y_binary(\"test\")\n",
        "    return X_train, X_test, y_train, y_test"
      ],
      "execution_count": null,
      "outputs": []
    },
    {
      "cell_type": "code",
      "metadata": {
        "id": "_RzgfAWE9adM",
        "colab_type": "code",
        "colab": {}
      },
      "source": [
        "X_Train_binary,X_Test_binary, Y_Train_binary, Y_Test_binary = load_data_binary()"
      ],
      "execution_count": null,
      "outputs": []
    },
    {
      "cell_type": "code",
      "metadata": {
        "id": "7IAB-4ov9aXG",
        "colab_type": "code",
        "colab": {
          "base_uri": "https://localhost:8080/",
          "height": 85
        },
        "outputId": "96e59aee-a27e-420b-de39-b9320d41dc4d"
      },
      "source": [
        "timesteps = len(X_Train_binary[0])\n",
        "input_dim = len(X_Train_binary[0][0])\n",
        "print(\"Timesteps : \", timesteps)\n",
        "print('Input Dimension : ', input_dim)\n",
        "print(\"Train Shape : \", X_Train_binary.shape)\n",
        "print(\"Test Shape : \", X_Test_binary.shape)\n"
      ],
      "execution_count": null,
      "outputs": [
        {
          "output_type": "stream",
          "text": [
            "Timesteps :  128\n",
            "Input Dimension :  9\n",
            "Train Shape :  (7352, 128, 9)\n",
            "Test Shape :  (2947, 128, 9)\n"
          ],
          "name": "stdout"
        }
      ]
    },
    {
      "cell_type": "code",
      "metadata": {
        "id": "KPYwicAE9aRu",
        "colab_type": "code",
        "colab": {
          "base_uri": "https://localhost:8080/",
          "height": 1000
        },
        "outputId": "573e6be0-fe0e-4357-93f3-cd18dbc563cd"
      },
      "source": [
        "#Architecture :\n",
        "\n",
        "model_1stStage_binary = Sequential()\n",
        "model_1stStage_binary.add(Conv1D(32, kernel_size = 3, kernel_initializer= 'glorot_normal',activation='relu',kernel_regularizer = l2(0.003), input_shape = (timesteps,input_dim)))\n",
        "#model_1stStage_binary.add(MaxPool1D(2))\n",
        "model_1stStage_binary.add(Conv1D(32, kernel_size= 3, kernel_initializer='glorot_normal',activation='relu',kernel_regularizer = l2(0.003)))\n",
        "model_1stStage_binary.add(Dropout(0.6))\n",
        "model_1stStage_binary.add(MaxPool1D(2))\n",
        "model_1stStage_binary.add(Flatten())\n",
        "model_1stStage_binary.add(Dense(64, activation='relu'))\n",
        "model_1stStage_binary.add(Dropout(0.5))\n",
        "model_1stStage_binary.add(Dense(2, activation='softmax'))\n",
        "model_1stStage_binary.summary()\n",
        "\n",
        "model_1stStage_binary.compile(loss = 'categorical_crossentropy', optimizer = 'Adam', metrics = ['accuracy'])\n",
        "\n",
        "result_1stStage_binary = model_1stStage_binary.fit(X_Train_binary,Y_Train_binary, batch_size = 64, epochs = epochs, validation_data = (X_Test_binary,Y_Test_binary), verbose = 1)\n"
      ],
      "execution_count": null,
      "outputs": [
        {
          "output_type": "stream",
          "text": [
            "Model: \"sequential_25\"\n",
            "_________________________________________________________________\n",
            "Layer (type)                 Output Shape              Param #   \n",
            "=================================================================\n",
            "conv1d_50 (Conv1D)           (None, 126, 32)           896       \n",
            "_________________________________________________________________\n",
            "conv1d_51 (Conv1D)           (None, 124, 32)           3104      \n",
            "_________________________________________________________________\n",
            "dropout_46 (Dropout)         (None, 124, 32)           0         \n",
            "_________________________________________________________________\n",
            "max_pooling1d_31 (MaxPooling (None, 62, 32)            0         \n",
            "_________________________________________________________________\n",
            "flatten_21 (Flatten)         (None, 1984)              0         \n",
            "_________________________________________________________________\n",
            "dense_42 (Dense)             (None, 64)                127040    \n",
            "_________________________________________________________________\n",
            "dropout_47 (Dropout)         (None, 64)                0         \n",
            "_________________________________________________________________\n",
            "dense_43 (Dense)             (None, 2)                 130       \n",
            "=================================================================\n",
            "Total params: 131,170\n",
            "Trainable params: 131,170\n",
            "Non-trainable params: 0\n",
            "_________________________________________________________________\n",
            "Epoch 1/30\n",
            "115/115 [==============================] - 2s 18ms/step - loss: 0.1939 - accuracy: 0.9699 - val_loss: 0.1518 - val_accuracy: 0.9844\n",
            "Epoch 2/30\n",
            "115/115 [==============================] - 2s 17ms/step - loss: 0.0988 - accuracy: 0.9986 - val_loss: 0.1201 - val_accuracy: 0.9834\n",
            "Epoch 3/30\n",
            "115/115 [==============================] - 2s 17ms/step - loss: 0.0753 - accuracy: 0.9986 - val_loss: 0.0944 - val_accuracy: 0.9871\n",
            "Epoch 4/30\n",
            "115/115 [==============================] - 2s 17ms/step - loss: 0.0591 - accuracy: 0.9981 - val_loss: 0.0870 - val_accuracy: 0.9868\n",
            "Epoch 5/30\n",
            "115/115 [==============================] - 2s 17ms/step - loss: 0.0490 - accuracy: 0.9992 - val_loss: 0.0824 - val_accuracy: 0.9861\n",
            "Epoch 6/30\n",
            "115/115 [==============================] - 2s 17ms/step - loss: 0.0389 - accuracy: 0.9992 - val_loss: 0.0584 - val_accuracy: 0.9881\n",
            "Epoch 7/30\n",
            "115/115 [==============================] - 2s 16ms/step - loss: 0.0329 - accuracy: 0.9996 - val_loss: 0.0373 - val_accuracy: 0.9983\n",
            "Epoch 8/30\n",
            "115/115 [==============================] - 2s 16ms/step - loss: 0.0277 - accuracy: 0.9997 - val_loss: 0.0333 - val_accuracy: 0.9973\n",
            "Epoch 9/30\n",
            "115/115 [==============================] - 2s 17ms/step - loss: 0.0231 - accuracy: 0.9999 - val_loss: 0.0317 - val_accuracy: 0.9973\n",
            "Epoch 10/30\n",
            "115/115 [==============================] - 2s 17ms/step - loss: 0.0198 - accuracy: 0.9999 - val_loss: 0.0260 - val_accuracy: 0.9983\n",
            "Epoch 11/30\n",
            "115/115 [==============================] - 2s 16ms/step - loss: 0.0224 - accuracy: 0.9985 - val_loss: 0.0340 - val_accuracy: 0.9952\n",
            "Epoch 12/30\n",
            "115/115 [==============================] - 2s 16ms/step - loss: 0.0171 - accuracy: 0.9999 - val_loss: 0.0199 - val_accuracy: 0.9980\n",
            "Epoch 13/30\n",
            "115/115 [==============================] - 2s 17ms/step - loss: 0.0162 - accuracy: 0.9995 - val_loss: 0.0220 - val_accuracy: 0.9969\n",
            "Epoch 14/30\n",
            "115/115 [==============================] - 2s 17ms/step - loss: 0.0130 - accuracy: 1.0000 - val_loss: 0.0183 - val_accuracy: 0.9983\n",
            "Epoch 15/30\n",
            "115/115 [==============================] - 2s 17ms/step - loss: 0.0169 - accuracy: 0.9980 - val_loss: 0.0295 - val_accuracy: 0.9959\n",
            "Epoch 16/30\n",
            "115/115 [==============================] - 2s 16ms/step - loss: 0.0137 - accuracy: 0.9996 - val_loss: 0.0187 - val_accuracy: 0.9983\n",
            "Epoch 17/30\n",
            "115/115 [==============================] - 2s 17ms/step - loss: 0.0114 - accuracy: 0.9997 - val_loss: 0.0238 - val_accuracy: 0.9966\n",
            "Epoch 18/30\n",
            "115/115 [==============================] - 2s 16ms/step - loss: 0.0111 - accuracy: 0.9996 - val_loss: 0.0204 - val_accuracy: 0.9973\n",
            "Epoch 19/30\n",
            "115/115 [==============================] - 2s 17ms/step - loss: 0.0104 - accuracy: 0.9999 - val_loss: 0.0128 - val_accuracy: 0.9990\n",
            "Epoch 20/30\n",
            "115/115 [==============================] - 2s 17ms/step - loss: 0.0087 - accuracy: 0.9999 - val_loss: 0.0209 - val_accuracy: 0.9966\n",
            "Epoch 21/30\n",
            "115/115 [==============================] - 2s 17ms/step - loss: 0.0075 - accuracy: 1.0000 - val_loss: 0.0107 - val_accuracy: 0.9986\n",
            "Epoch 22/30\n",
            "115/115 [==============================] - 2s 17ms/step - loss: 0.0067 - accuracy: 1.0000 - val_loss: 0.0090 - val_accuracy: 0.9986\n",
            "Epoch 23/30\n",
            "115/115 [==============================] - 2s 17ms/step - loss: 0.0063 - accuracy: 0.9999 - val_loss: 0.0197 - val_accuracy: 0.9963\n",
            "Epoch 24/30\n",
            "115/115 [==============================] - 2s 17ms/step - loss: 0.0064 - accuracy: 0.9997 - val_loss: 0.0137 - val_accuracy: 0.9983\n",
            "Epoch 25/30\n",
            "115/115 [==============================] - 2s 17ms/step - loss: 0.0080 - accuracy: 0.9996 - val_loss: 0.0120 - val_accuracy: 0.9983\n",
            "Epoch 26/30\n",
            "115/115 [==============================] - 2s 17ms/step - loss: 0.0077 - accuracy: 0.9992 - val_loss: 0.0140 - val_accuracy: 0.9980\n",
            "Epoch 27/30\n",
            "115/115 [==============================] - 2s 16ms/step - loss: 0.0090 - accuracy: 0.9988 - val_loss: 0.0107 - val_accuracy: 0.9993\n",
            "Epoch 28/30\n",
            "115/115 [==============================] - 2s 16ms/step - loss: 0.0062 - accuracy: 1.0000 - val_loss: 0.0077 - val_accuracy: 0.9990\n",
            "Epoch 29/30\n",
            "115/115 [==============================] - 2s 16ms/step - loss: 0.0058 - accuracy: 0.9999 - val_loss: 0.0090 - val_accuracy: 0.9983\n",
            "Epoch 30/30\n",
            "115/115 [==============================] - 2s 16ms/step - loss: 0.0050 - accuracy: 1.0000 - val_loss: 0.0092 - val_accuracy: 0.9983\n"
          ],
          "name": "stdout"
        }
      ]
    },
    {
      "cell_type": "code",
      "metadata": {
        "id": "7596SmexGt_C",
        "colab_type": "code",
        "colab": {
          "base_uri": "https://localhost:8080/",
          "height": 51
        },
        "outputId": "c8710cf7-77ed-477a-f859-78aa955c140a"
      },
      "source": [
        "model_1stStage_binary.evaluate(X_Test_binary,Y_Test_binary)"
      ],
      "execution_count": null,
      "outputs": [
        {
          "output_type": "stream",
          "text": [
            "93/93 [==============================] - 0s 3ms/step - loss: 0.0092 - accuracy: 0.9983\n"
          ],
          "name": "stdout"
        },
        {
          "output_type": "execute_result",
          "data": {
            "text/plain": [
              "[0.009171461686491966, 0.9983033537864685]"
            ]
          },
          "metadata": {
            "tags": []
          },
          "execution_count": 250
        }
      ]
    },
    {
      "cell_type": "code",
      "metadata": {
        "id": "6JpzOdrIGt3Y",
        "colab_type": "code",
        "colab": {
          "base_uri": "https://localhost:8080/",
          "height": 295
        },
        "outputId": "b69e77b9-55a1-41df-e89c-7eaacaac1a1e"
      },
      "source": [
        "train_loss_1stStage_binary = result_1stStage_binary.history['loss']\n",
        "val_loss_1stStage_binary = result_1stStage_binary.history['val_loss']\n",
        "\n",
        "#Plotting the loss\n",
        "plt.plot(train_loss_1stStage_binary , 'b', label=\"Train Loss\" )\n",
        "plt.plot(val_loss_1stStage_binary , 'g', label=\"Validation Loss\")\n",
        "plt.xlabel('Epochs')\n",
        "plt.ylabel('Categorical CrossEntropy')\n",
        "plt.title('Binary CLassifier - 1st Stage')\n",
        "plt.legend()\n",
        "plt.show()"
      ],
      "execution_count": null,
      "outputs": [
        {
          "output_type": "display_data",
          "data": {
            "image/png": "[encoded data removed]",
            "text/plain": [
              "<Figure size 432x288 with 1 Axes>"
            ]
          },
          "metadata": {
            "tags": [],
            "needs_background": "light"
          }
        }
      ]
    },
    {
      "cell_type": "code",
      "metadata": {
        "id": "MAm40DEKGtuD",
        "colab_type": "code",
        "colab": {}
      },
      "source": [
        "model_1stStage_binary.save('/content/drive/My Drive/Human Activity Recognition/HAR/Model_1stStage_Binary.h5')"
      ],
      "execution_count": null,
      "outputs": []
    },
    {
      "cell_type": "markdown",
      "metadata": {
        "id": "0N0phhvzltDy",
        "colab_type": "text"
      },
      "source": [
        "##### Model 2 : Classifier for Only Static Classes :"
      ]
    },
    {
      "cell_type": "code",
      "metadata": {
        "id": "jiY9WC8zN9eD",
        "colab_type": "code",
        "colab": {}
      },
      "source": [
        "def load_y_static(subset):\n",
        "    \"\"\"\n",
        "    The objective that we are trying to predict is a integer, from 1 to 6,\n",
        "    that represents a human activity. We return a binary representation of \n",
        "    every sample objective as a 6 bits vector using One Hot Encoding\n",
        "    (https://pandas.pydata.org/pandas-docs/stable/generated/pandas.get_dummies.html)\n",
        "    \"\"\"\n",
        "    filename = f'/content/drive/My Drive/Human Activity Recognition/HAR/UCI_HAR_Dataset/{subset}/y_{subset}.txt'\n",
        "    y = _read_csv(filename)[0]\n",
        "\n",
        "    #Getting the boolean values for this condition. These boolean values are later used to get the X records corresponding to these Y.\n",
        "    class_y = y>3\n",
        "    new_y = y[class_y]\n",
        "    return pd.get_dummies(new_y).to_numpy(),class_y\n",
        "\n",
        "def load_data_static():\n",
        "    \"\"\"\n",
        "    Obtain the dataset from multiple files.\n",
        "    Returns: X_train, X_test, y_train, y_test\n",
        "    \"\"\"\n",
        "    X_train, X_test = load_signals('train'), load_signals('test')\n",
        "    y_train_new, y_label_train = load_y_static('train')\n",
        "    y_val_new,y_label_test = load_y_static('test')\n",
        "    X_train_new = X_train[y_label_train]\n",
        "    X_val_new = X_test[y_label_test]\n",
        "    return X_train_new, X_val_new, y_train_new, y_val_new"
      ],
      "execution_count": null,
      "outputs": []
    },
    {
      "cell_type": "code",
      "metadata": {
        "id": "PyXHYvmtN9tG",
        "colab_type": "code",
        "colab": {}
      },
      "source": [
        "X_Train_static , X_Test_static, Y_Train_static , Y_Test_static = load_data_static()"
      ],
      "execution_count": null,
      "outputs": []
    },
    {
      "cell_type": "code",
      "metadata": {
        "id": "MXbE14jyN98n",
        "colab_type": "code",
        "colab": {
          "base_uri": "https://localhost:8080/",
          "height": 85
        },
        "outputId": "8c5b022c-ee8d-413e-9a1a-1df4cb776fe8"
      },
      "source": [
        "print('Timesteps : ', len(X_Train_static[0]))\n",
        "print(\"Input Dimension for Static Classifier : \", len(X_Train_static[0][0]))\n",
        "print('Train Shape : ', X_Train_static.shape)\n",
        "print(\"Test Shape : \", X_Test_static.shape)"
      ],
      "execution_count": null,
      "outputs": [
        {
          "output_type": "stream",
          "text": [
            "Timesteps :  128\n",
            "Input Dimension for Static Classifier :  9\n",
            "Train Shape :  (4067, 128, 9)\n",
            "Test Shape :  (1560, 128, 9)\n"
          ],
          "name": "stdout"
        }
      ]
    },
    {
      "cell_type": "code",
      "metadata": {
        "id": "mDoDP6u3TcWu",
        "colab_type": "code",
        "colab": {}
      },
      "source": [
        "custom_adam = Adam(learning_rate=0.0001)"
      ],
      "execution_count": null,
      "outputs": []
    },
    {
      "cell_type": "code",
      "metadata": {
        "id": "ukw7JWPaGtfA",
        "colab_type": "code",
        "colab": {
          "base_uri": "https://localhost:8080/",
          "height": 1000
        },
        "outputId": "2afaeea1-7ba8-416b-b440-13cc95019358"
      },
      "source": [
        "%%time\n",
        "model_2ndStage_static = Sequential()\n",
        "model_2ndStage_static.add(Conv1D(30,kernel_size= 3, activation='relu', input_shape = (timesteps,input_dim), kernel_initializer= 'glorot_normal',kernel_regularizer = l2(0.003)))\n",
        "model_2ndStage_static.add(BatchNormalization())\n",
        "model_2ndStage_static.add(Dropout(0.7))\n",
        "model_2ndStage_static.add(Conv1D(50, kernel_size= 3, activation='relu', kernel_initializer='glorot_normal',kernel_regularizer = l2(0.003)))\n",
        "model_2ndStage_static.add(BatchNormalization())\n",
        "model_2ndStage_static.add(Dropout(0.5))\n",
        "model_2ndStage_static.add(Conv1D(100, kernel_size= 3, activation='relu', kernel_initializer='glorot_normal',kernel_regularizer = l2(0.003)))\n",
        "model_2ndStage_static.add(BatchNormalization())\n",
        "model_2ndStage_static.add(Dropout(0.4))\n",
        "model_2ndStage_static.add(Flatten())\n",
        "model_2ndStage_static.add(Dense(100, activation='relu'))\n",
        "model_2ndStage_static.add(Dropout(0.5))\n",
        "model_2ndStage_static.add(Dense(3, activation='softmax'))\n",
        "model_2ndStage_static.summary()\n",
        "\n",
        "model_2ndStage_static.compile(loss = 'categorical_crossentropy', optimizer = custom_adam, metrics = ['accuracy'])\n",
        "\n",
        "result_2ndStatge_static = model_2ndStage_static.fit(X_Train_static,Y_Train_static, \n",
        "                                                    batch_size = 32, epochs = 40, validation_data = (X_Test_static,Y_Test_static))"
      ],
      "execution_count": null,
      "outputs": [
        {
          "output_type": "stream",
          "text": [
            "Model: \"sequential_26\"\n",
            "_________________________________________________________________\n",
            "Layer (type)                 Output Shape              Param #   \n",
            "=================================================================\n",
            "conv1d_52 (Conv1D)           (None, 126, 30)           840       \n",
            "_________________________________________________________________\n",
            "batch_normalization_11 (Batc (None, 126, 30)           120       \n",
            "_________________________________________________________________\n",
            "dropout_48 (Dropout)         (None, 126, 30)           0         \n",
            "_________________________________________________________________\n",
            "conv1d_53 (Conv1D)           (None, 124, 50)           4550      \n",
            "_________________________________________________________________\n",
            "batch_normalization_12 (Batc (None, 124, 50)           200       \n",
            "_________________________________________________________________\n",
            "dropout_49 (Dropout)         (None, 124, 50)           0         \n",
            "_________________________________________________________________\n",
            "conv1d_54 (Conv1D)           (None, 122, 100)          15100     \n",
            "_________________________________________________________________\n",
            "batch_normalization_13 (Batc (None, 122, 100)          400       \n",
            "_________________________________________________________________\n",
            "dropout_50 (Dropout)         (None, 122, 100)          0         \n",
            "_________________________________________________________________\n",
            "flatten_22 (Flatten)         (None, 12200)             0         \n",
            "_________________________________________________________________\n",
            "dense_44 (Dense)             (None, 100)               1220100   \n",
            "_________________________________________________________________\n",
            "dropout_51 (Dropout)         (None, 100)               0         \n",
            "_________________________________________________________________\n",
            "dense_45 (Dense)             (None, 3)                 303       \n",
            "=================================================================\n",
            "Total params: 1,241,613\n",
            "Trainable params: 1,241,253\n",
            "Non-trainable params: 360\n",
            "_________________________________________________________________\n",
            "Epoch 1/40\n",
            "128/128 [==============================] - 5s 43ms/step - loss: 0.8044 - accuracy: 0.8554 - val_loss: 1.3933 - val_accuracy: 0.4538\n",
            "Epoch 2/40\n",
            "128/128 [==============================] - 5s 41ms/step - loss: 0.6192 - accuracy: 0.8906 - val_loss: 1.1557 - val_accuracy: 0.5897\n",
            "Epoch 3/40\n",
            "128/128 [==============================] - 5s 41ms/step - loss: 0.5991 - accuracy: 0.8948 - val_loss: 0.7946 - val_accuracy: 0.8474\n",
            "Epoch 4/40\n",
            "128/128 [==============================] - 5s 42ms/step - loss: 0.5851 - accuracy: 0.9016 - val_loss: 0.7045 - val_accuracy: 0.8756\n",
            "Epoch 5/40\n",
            "128/128 [==============================] - 5s 41ms/step - loss: 0.5739 - accuracy: 0.9068 - val_loss: 0.6654 - val_accuracy: 0.8801\n",
            "Epoch 6/40\n",
            "128/128 [==============================] - 5s 42ms/step - loss: 0.5723 - accuracy: 0.8977 - val_loss: 0.6332 - val_accuracy: 0.8737\n",
            "Epoch 7/40\n",
            "128/128 [==============================] - 5s 41ms/step - loss: 0.5655 - accuracy: 0.8989 - val_loss: 0.6544 - val_accuracy: 0.8667\n",
            "Epoch 8/40\n",
            "128/128 [==============================] - 5s 41ms/step - loss: 0.5562 - accuracy: 0.9056 - val_loss: 0.6310 - val_accuracy: 0.8821\n",
            "Epoch 9/40\n",
            "128/128 [==============================] - 5s 41ms/step - loss: 0.5528 - accuracy: 0.9019 - val_loss: 0.6573 - val_accuracy: 0.8750\n",
            "Epoch 10/40\n",
            "128/128 [==============================] - 5s 41ms/step - loss: 0.5410 - accuracy: 0.9066 - val_loss: 0.6452 - val_accuracy: 0.8737\n",
            "Epoch 11/40\n",
            "128/128 [==============================] - 5s 41ms/step - loss: 0.5416 - accuracy: 0.9041 - val_loss: 0.6277 - val_accuracy: 0.8878\n",
            "Epoch 12/40\n",
            "128/128 [==============================] - 5s 41ms/step - loss: 0.5321 - accuracy: 0.9068 - val_loss: 0.6403 - val_accuracy: 0.8737\n",
            "Epoch 13/40\n",
            "128/128 [==============================] - 5s 42ms/step - loss: 0.5241 - accuracy: 0.9053 - val_loss: 0.6473 - val_accuracy: 0.8853\n",
            "Epoch 14/40\n",
            "128/128 [==============================] - 5s 41ms/step - loss: 0.5244 - accuracy: 0.9098 - val_loss: 0.6209 - val_accuracy: 0.8833\n",
            "Epoch 15/40\n",
            "128/128 [==============================] - 5s 41ms/step - loss: 0.5337 - accuracy: 0.8980 - val_loss: 0.6098 - val_accuracy: 0.8750\n",
            "Epoch 16/40\n",
            "128/128 [==============================] - 5s 41ms/step - loss: 0.5101 - accuracy: 0.9083 - val_loss: 0.5831 - val_accuracy: 0.8872\n",
            "Epoch 17/40\n",
            "128/128 [==============================] - 5s 42ms/step - loss: 0.5138 - accuracy: 0.9085 - val_loss: 0.5903 - val_accuracy: 0.8846\n",
            "Epoch 18/40\n",
            "128/128 [==============================] - 5s 41ms/step - loss: 0.5014 - accuracy: 0.9085 - val_loss: 0.6017 - val_accuracy: 0.8808\n",
            "Epoch 19/40\n",
            "128/128 [==============================] - 5s 41ms/step - loss: 0.5069 - accuracy: 0.9083 - val_loss: 0.6193 - val_accuracy: 0.8865\n",
            "Epoch 20/40\n",
            "128/128 [==============================] - 5s 41ms/step - loss: 0.4918 - accuracy: 0.9122 - val_loss: 0.5868 - val_accuracy: 0.8827\n",
            "Epoch 21/40\n",
            "128/128 [==============================] - 5s 41ms/step - loss: 0.4876 - accuracy: 0.9088 - val_loss: 0.5865 - val_accuracy: 0.8872\n",
            "Epoch 22/40\n",
            "128/128 [==============================] - 5s 41ms/step - loss: 0.4974 - accuracy: 0.9100 - val_loss: 0.5952 - val_accuracy: 0.8853\n",
            "Epoch 23/40\n",
            "128/128 [==============================] - 5s 41ms/step - loss: 0.4860 - accuracy: 0.9130 - val_loss: 0.6230 - val_accuracy: 0.8872\n",
            "Epoch 24/40\n",
            "128/128 [==============================] - 5s 41ms/step - loss: 0.4832 - accuracy: 0.9142 - val_loss: 0.5998 - val_accuracy: 0.8859\n",
            "Epoch 25/40\n",
            "128/128 [==============================] - 5s 41ms/step - loss: 0.4751 - accuracy: 0.9120 - val_loss: 0.6082 - val_accuracy: 0.8865\n",
            "Epoch 26/40\n",
            "128/128 [==============================] - 5s 41ms/step - loss: 0.4709 - accuracy: 0.9112 - val_loss: 0.5949 - val_accuracy: 0.8865\n",
            "Epoch 27/40\n",
            "128/128 [==============================] - 5s 41ms/step - loss: 0.4861 - accuracy: 0.9149 - val_loss: 0.5951 - val_accuracy: 0.8853\n",
            "Epoch 28/40\n",
            "128/128 [==============================] - 5s 41ms/step - loss: 0.4824 - accuracy: 0.9120 - val_loss: 0.5966 - val_accuracy: 0.8846\n",
            "Epoch 29/40\n",
            "128/128 [==============================] - 5s 41ms/step - loss: 0.4707 - accuracy: 0.9103 - val_loss: 0.5938 - val_accuracy: 0.8872\n",
            "Epoch 30/40\n",
            "128/128 [==============================] - 5s 41ms/step - loss: 0.4777 - accuracy: 0.9085 - val_loss: 0.6003 - val_accuracy: 0.8885\n",
            "Epoch 31/40\n",
            "128/128 [==============================] - 5s 41ms/step - loss: 0.4766 - accuracy: 0.9090 - val_loss: 0.5770 - val_accuracy: 0.8891\n",
            "Epoch 32/40\n",
            "128/128 [==============================] - 5s 41ms/step - loss: 0.4675 - accuracy: 0.9127 - val_loss: 0.5515 - val_accuracy: 0.8808\n",
            "Epoch 33/40\n",
            "128/128 [==============================] - 5s 41ms/step - loss: 0.4656 - accuracy: 0.9154 - val_loss: 0.5438 - val_accuracy: 0.8801\n",
            "Epoch 34/40\n",
            "128/128 [==============================] - 5s 41ms/step - loss: 0.4573 - accuracy: 0.9142 - val_loss: 0.5572 - val_accuracy: 0.8891\n",
            "Epoch 35/40\n",
            "128/128 [==============================] - 5s 41ms/step - loss: 0.4548 - accuracy: 0.9152 - val_loss: 0.5443 - val_accuracy: 0.8897\n",
            "Epoch 36/40\n",
            "128/128 [==============================] - 5s 41ms/step - loss: 0.4493 - accuracy: 0.9154 - val_loss: 0.5500 - val_accuracy: 0.8853\n",
            "Epoch 37/40\n",
            "128/128 [==============================] - 5s 41ms/step - loss: 0.4583 - accuracy: 0.9117 - val_loss: 0.5884 - val_accuracy: 0.8833\n",
            "Epoch 38/40\n",
            "128/128 [==============================] - 5s 41ms/step - loss: 0.4559 - accuracy: 0.9130 - val_loss: 0.5654 - val_accuracy: 0.8872\n",
            "Epoch 39/40\n",
            "128/128 [==============================] - 5s 41ms/step - loss: 0.4618 - accuracy: 0.9105 - val_loss: 0.5553 - val_accuracy: 0.8872\n",
            "Epoch 40/40\n",
            "128/128 [==============================] - 5s 41ms/step - loss: 0.4437 - accuracy: 0.9213 - val_loss: 0.5600 - val_accuracy: 0.8897\n",
            "CPU times: user 6min, sys: 23.8 s, total: 6min 23s\n",
            "Wall time: 3min 34s\n"
          ],
          "name": "stdout"
        }
      ]
    },
    {
      "cell_type": "code",
      "metadata": {
        "id": "lpzwxcBc9aOk",
        "colab_type": "code",
        "colab": {
          "base_uri": "https://localhost:8080/",
          "height": 51
        },
        "outputId": "52fb7021-a88e-488f-e78b-ca934d65bd24"
      },
      "source": [
        "model_2ndStage_static.evaluate(X_Test_static,Y_Test_static)"
      ],
      "execution_count": null,
      "outputs": [
        {
          "output_type": "stream",
          "text": [
            "49/49 [==============================] - 0s 9ms/step - loss: 0.5600 - accuracy: 0.8897\n"
          ],
          "name": "stdout"
        },
        {
          "output_type": "execute_result",
          "data": {
            "text/plain": [
              "[0.5600143671035767, 0.8897435665130615]"
            ]
          },
          "metadata": {
            "tags": []
          },
          "execution_count": 254
        }
      ]
    },
    {
      "cell_type": "code",
      "metadata": {
        "id": "MkKidgZxZHCD",
        "colab_type": "code",
        "colab": {
          "base_uri": "https://localhost:8080/",
          "height": 295
        },
        "outputId": "788d722e-a403-4134-b451-8d5a9256caf6"
      },
      "source": [
        "train_loss_2stStage_static = result_2ndStatge_static.history['loss']\n",
        "val_loss_2stStage_static = result_2ndStatge_static.history['val_loss']\n",
        "\n",
        "#Plotting the loss\n",
        "plt.plot(train_loss_2stStage_static , 'b', label=\"Train Loss\" )\n",
        "plt.plot(val_loss_2stStage_static , 'g', label=\"Validation Loss\")\n",
        "plt.xlabel('Epochs')\n",
        "plt.ylabel('Categorical CrossEntropy')\n",
        "plt.title('Multi Class Classifier - Static - 2nd Stage')\n",
        "plt.legend()\n",
        "plt.show()"
      ],
      "execution_count": null,
      "outputs": [
        {
          "output_type": "display_data",
          "data": {
            "image/png": "[encoded data removed]",
            "text/plain": [
              "<Figure size 432x288 with 1 Axes>"
            ]
          },
          "metadata": {
            "tags": [],
            "needs_background": "light"
          }
        }
      ]
    },
    {
      "cell_type": "code",
      "metadata": {
        "id": "VQNsfv1WYzx-",
        "colab_type": "code",
        "colab": {}
      },
      "source": [
        "model_2ndStage_static.save('/content/drive/My Drive/Human Activity Recognition/HAR/Model_2ndStage_Static.h5')"
      ],
      "execution_count": null,
      "outputs": []
    },
    {
      "cell_type": "markdown",
      "metadata": {
        "id": "gBuUznyUl_48",
        "colab_type": "text"
      },
      "source": [
        "##### Model 3 : Classifier for Dynamic Classes :"
      ]
    },
    {
      "cell_type": "code",
      "metadata": {
        "id": "dTc46MbcY0Dl",
        "colab_type": "code",
        "colab": {}
      },
      "source": [
        "def load_y_dynamic(subset):\n",
        "    \"\"\"\n",
        "    The objective that we are trying to predict is a integer, from 1 to 6,\n",
        "    that represents a human activity. We return a binary representation of \n",
        "    every sample objective as a 6 bits vector using One Hot Encoding\n",
        "    (https://pandas.pydata.org/pandas-docs/stable/generated/pandas.get_dummies.html)\n",
        "    \"\"\"\n",
        "    filename = f'/content/drive/My Drive/Human Activity Recognition/HAR/UCI_HAR_Dataset/{subset}/y_{subset}.txt'\n",
        "    y = _read_csv(filename)[0]\n",
        "    class_y = y<=3\n",
        "    new_y = y[class_y]\n",
        "    return pd.get_dummies(new_y).to_numpy(),class_y\n",
        "\n",
        "def load_data_dymanic():\n",
        "    \"\"\"\n",
        "    Obtain the dataset from multiple files.\n",
        "    Returns: X_train, X_test, y_train, y_test\n",
        "    \"\"\"\n",
        "    X_train, X_test = load_signals('train'), load_signals('test')\n",
        "    y_train_new, y_label_train = load_y_dynamic('train')\n",
        "    y_val_new,y_label_test = load_y_dynamic('test')\n",
        "    X_train_new = X_train[y_label_train]\n",
        "    X_val_new = X_test[y_label_test]\n",
        "    return X_train_new, X_val_new, y_train_new, y_val_new"
      ],
      "execution_count": null,
      "outputs": []
    },
    {
      "cell_type": "code",
      "metadata": {
        "id": "lf2mm58_alst",
        "colab_type": "code",
        "colab": {}
      },
      "source": [
        "X_Train_dynamic, X_Test_dynamic, Y_Train_dynamic, Y_Test_dynamic = load_data_dymanic()"
      ],
      "execution_count": null,
      "outputs": []
    },
    {
      "cell_type": "code",
      "metadata": {
        "id": "FpINUDN3al5_",
        "colab_type": "code",
        "colab": {
          "base_uri": "https://localhost:8080/",
          "height": 85
        },
        "outputId": "23b129e3-cc96-49c9-fed5-00491af87fae"
      },
      "source": [
        "print('Timesteps : ', len(X_Train_dynamic[0]))\n",
        "print('Input Dimension for Dynamic Class : ', len(X_Train_dynamic[0][0]))\n",
        "print(\"Train Shape : \", X_Train_dynamic.shape)\n",
        "print('Test Shape : ', X_Test_dynamic.shape)"
      ],
      "execution_count": null,
      "outputs": [
        {
          "output_type": "stream",
          "text": [
            "Timesteps :  128\n",
            "Input Dimension for Dynamic Class :  9\n",
            "Train Shape :  (3285, 128, 9)\n",
            "Test Shape :  (1387, 128, 9)\n"
          ],
          "name": "stdout"
        }
      ]
    },
    {
      "cell_type": "code",
      "metadata": {
        "id": "JUZfSpu_fAi8",
        "colab_type": "code",
        "colab": {}
      },
      "source": [
        "custom_adam_dynamic = Adam(learning_rate=0.0004)"
      ],
      "execution_count": null,
      "outputs": []
    },
    {
      "cell_type": "code",
      "metadata": {
        "id": "JXq8rC1fbc98",
        "colab_type": "code",
        "colab": {
          "base_uri": "https://localhost:8080/",
          "height": 1000
        },
        "outputId": "69cd753c-9362-4a58-d568-d748a317bdeb"
      },
      "source": [
        "%%time\n",
        "model_2ndStage_dynamic = Sequential()\n",
        "model_2ndStage_dynamic.add(Conv1D(64, kernel_size= 3, activation='relu', input_shape = (timesteps, input_dim), kernel_initializer='glorot_normal'))\n",
        "#model_2ndStage_dynamic.add(BatchNormalization())\n",
        "#model_2ndStage_dynamic.add(Dropout(0.7))\n",
        "#model_2ndStage_dynamic.add(MaxPool1D(3))\n",
        "model_2ndStage_dynamic.add(Conv1D(32,kernel_size=3, activation='relu', kernel_initializer='glorot_normal'))\n",
        "model_2ndStage_dynamic.add(Dropout(0.5))\n",
        "model_2ndStage_dynamic.add(MaxPool1D(3))\n",
        "model_2ndStage_dynamic.add(Flatten())\n",
        "model_2ndStage_dynamic.add(Dense(16, activation='relu'))\n",
        "model_2ndStage_dynamic.add(Dropout(0.5))\n",
        "model_2ndStage_dynamic.add(Dense(3, activation='softmax'))\n",
        "model_2ndStage_dynamic.summary()\n",
        "\n",
        "model_2ndStage_dynamic.compile(loss='categorical_crossentropy',optimizer=custom_adam_dynamic, metrics=['accuracy'])\n",
        "\n",
        "\n",
        "result_2ndStatge_dynamic = model_2ndStage_dynamic.fit(X_Train_dynamic,Y_Train_dynamic, \n",
        "                                                    batch_size = 32, epochs = 30, validation_data = (X_Test_dynamic,Y_Test_dynamic))"
      ],
      "execution_count": null,
      "outputs": [
        {
          "output_type": "stream",
          "text": [
            "Model: \"sequential_33\"\n",
            "_________________________________________________________________\n",
            "Layer (type)                 Output Shape              Param #   \n",
            "=================================================================\n",
            "conv1d_66 (Conv1D)           (None, 126, 64)           1792      \n",
            "_________________________________________________________________\n",
            "conv1d_67 (Conv1D)           (None, 124, 32)           6176      \n",
            "_________________________________________________________________\n",
            "dropout_62 (Dropout)         (None, 124, 32)           0         \n",
            "_________________________________________________________________\n",
            "max_pooling1d_37 (MaxPooling (None, 41, 32)            0         \n",
            "_________________________________________________________________\n",
            "flatten_28 (Flatten)         (None, 1312)              0         \n",
            "_________________________________________________________________\n",
            "dense_56 (Dense)             (None, 16)                21008     \n",
            "_________________________________________________________________\n",
            "dropout_63 (Dropout)         (None, 16)                0         \n",
            "_________________________________________________________________\n",
            "dense_57 (Dense)             (None, 3)                 51        \n",
            "=================================================================\n",
            "Total params: 29,027\n",
            "Trainable params: 29,027\n",
            "Non-trainable params: 0\n",
            "_________________________________________________________________\n",
            "Epoch 1/30\n",
            "103/103 [==============================] - 1s 14ms/step - loss: 0.8443 - accuracy: 0.5826 - val_loss: 0.6133 - val_accuracy: 0.8464\n",
            "Epoch 2/30\n",
            "103/103 [==============================] - 1s 12ms/step - loss: 0.3983 - accuracy: 0.8113 - val_loss: 0.4039 - val_accuracy: 0.9019\n",
            "Epoch 3/30\n",
            "103/103 [==============================] - 1s 12ms/step - loss: 0.2823 - accuracy: 0.8691 - val_loss: 0.3094 - val_accuracy: 0.9120\n",
            "Epoch 4/30\n",
            "103/103 [==============================] - 1s 12ms/step - loss: 0.2600 - accuracy: 0.8822 - val_loss: 0.2226 - val_accuracy: 0.9481\n",
            "Epoch 5/30\n",
            "103/103 [==============================] - 1s 12ms/step - loss: 0.2205 - accuracy: 0.9026 - val_loss: 0.2442 - val_accuracy: 0.9265\n",
            "Epoch 6/30\n",
            "103/103 [==============================] - 1s 12ms/step - loss: 0.1936 - accuracy: 0.9056 - val_loss: 0.1883 - val_accuracy: 0.9517\n",
            "Epoch 7/30\n",
            "103/103 [==============================] - 1s 12ms/step - loss: 0.2008 - accuracy: 0.8980 - val_loss: 0.1834 - val_accuracy: 0.9517\n",
            "Epoch 8/30\n",
            "103/103 [==============================] - 1s 12ms/step - loss: 0.1890 - accuracy: 0.9050 - val_loss: 0.2693 - val_accuracy: 0.9164\n",
            "Epoch 9/30\n",
            "103/103 [==============================] - 1s 12ms/step - loss: 0.1921 - accuracy: 0.9032 - val_loss: 0.1677 - val_accuracy: 0.9524\n",
            "Epoch 10/30\n",
            "103/103 [==============================] - 1s 12ms/step - loss: 0.1857 - accuracy: 0.9135 - val_loss: 0.1713 - val_accuracy: 0.9524\n",
            "Epoch 11/30\n",
            "103/103 [==============================] - 1s 12ms/step - loss: 0.1694 - accuracy: 0.9163 - val_loss: 0.1720 - val_accuracy: 0.9546\n",
            "Epoch 12/30\n",
            "103/103 [==============================] - 1s 12ms/step - loss: 0.1611 - accuracy: 0.9148 - val_loss: 0.1733 - val_accuracy: 0.9539\n",
            "Epoch 13/30\n",
            "103/103 [==============================] - 1s 12ms/step - loss: 0.1599 - accuracy: 0.9218 - val_loss: 0.1405 - val_accuracy: 0.9611\n",
            "Epoch 14/30\n",
            "103/103 [==============================] - 1s 12ms/step - loss: 0.1678 - accuracy: 0.9184 - val_loss: 0.1771 - val_accuracy: 0.9589\n",
            "Epoch 15/30\n",
            "103/103 [==============================] - 1s 12ms/step - loss: 0.1557 - accuracy: 0.9212 - val_loss: 0.1815 - val_accuracy: 0.9567\n",
            "Epoch 16/30\n",
            "103/103 [==============================] - 1s 12ms/step - loss: 0.1562 - accuracy: 0.9230 - val_loss: 0.1907 - val_accuracy: 0.9495\n",
            "Epoch 17/30\n",
            "103/103 [==============================] - 1s 12ms/step - loss: 0.1553 - accuracy: 0.9193 - val_loss: 0.1420 - val_accuracy: 0.9632\n",
            "Epoch 18/30\n",
            "103/103 [==============================] - 1s 12ms/step - loss: 0.1477 - accuracy: 0.9242 - val_loss: 0.1377 - val_accuracy: 0.9661\n",
            "Epoch 19/30\n",
            "103/103 [==============================] - 1s 12ms/step - loss: 0.1559 - accuracy: 0.9230 - val_loss: 0.1235 - val_accuracy: 0.9668\n",
            "Epoch 20/30\n",
            "103/103 [==============================] - 1s 12ms/step - loss: 0.1509 - accuracy: 0.9263 - val_loss: 0.1546 - val_accuracy: 0.9596\n",
            "Epoch 21/30\n",
            "103/103 [==============================] - 1s 12ms/step - loss: 0.1543 - accuracy: 0.9224 - val_loss: 0.1562 - val_accuracy: 0.9596\n",
            "Epoch 22/30\n",
            "103/103 [==============================] - 1s 12ms/step - loss: 0.1399 - accuracy: 0.9294 - val_loss: 0.1563 - val_accuracy: 0.9611\n",
            "Epoch 23/30\n",
            "103/103 [==============================] - 1s 12ms/step - loss: 0.1397 - accuracy: 0.9260 - val_loss: 0.1371 - val_accuracy: 0.9668\n",
            "Epoch 24/30\n",
            "103/103 [==============================] - 1s 12ms/step - loss: 0.1438 - accuracy: 0.9199 - val_loss: 0.1325 - val_accuracy: 0.9676\n",
            "Epoch 25/30\n",
            "103/103 [==============================] - 1s 12ms/step - loss: 0.1503 - accuracy: 0.9199 - val_loss: 0.2154 - val_accuracy: 0.9466\n",
            "Epoch 26/30\n",
            "103/103 [==============================] - 1s 12ms/step - loss: 0.1478 - accuracy: 0.9202 - val_loss: 0.1504 - val_accuracy: 0.9668\n",
            "Epoch 27/30\n",
            "103/103 [==============================] - 1s 12ms/step - loss: 0.1207 - accuracy: 0.9434 - val_loss: 0.1789 - val_accuracy: 0.9611\n",
            "Epoch 28/30\n",
            "103/103 [==============================] - 1s 12ms/step - loss: 0.1242 - accuracy: 0.9416 - val_loss: 0.1963 - val_accuracy: 0.9567\n",
            "Epoch 29/30\n",
            "103/103 [==============================] - 1s 12ms/step - loss: 0.1276 - accuracy: 0.9397 - val_loss: 0.1682 - val_accuracy: 0.9654\n",
            "Epoch 30/30\n",
            "103/103 [==============================] - 1s 12ms/step - loss: 0.1121 - accuracy: 0.9473 - val_loss: 0.1784 - val_accuracy: 0.9661\n",
            "CPU times: user 59.6 s, sys: 4.23 s, total: 1min 3s\n",
            "Wall time: 38.7 s\n"
          ],
          "name": "stdout"
        }
      ]
    },
    {
      "cell_type": "code",
      "metadata": {
        "id": "IiWLqky2bdSs",
        "colab_type": "code",
        "colab": {
          "base_uri": "https://localhost:8080/",
          "height": 51
        },
        "outputId": "8cdc6c10-f907-47d3-9c1b-4929ba9fafa6"
      },
      "source": [
        "model_2ndStage_dynamic.evaluate(X_Test_dynamic,Y_Test_dynamic)"
      ],
      "execution_count": null,
      "outputs": [
        {
          "output_type": "stream",
          "text": [
            "44/44 [==============================] - 0s 3ms/step - loss: 0.1784 - accuracy: 0.9661\n"
          ],
          "name": "stdout"
        },
        {
          "output_type": "execute_result",
          "data": {
            "text/plain": [
              "[0.17837686836719513, 0.9661139249801636]"
            ]
          },
          "metadata": {
            "tags": []
          },
          "execution_count": 338
        }
      ]
    },
    {
      "cell_type": "code",
      "metadata": {
        "id": "8s--37Jgk7Ln",
        "colab_type": "code",
        "colab": {
          "base_uri": "https://localhost:8080/",
          "height": 295
        },
        "outputId": "04072538-ce82-4951-d3d6-bfee32b77936"
      },
      "source": [
        "train_loss_2ndStage_dynamic = result_2ndStatge_dynamic.history['loss']\n",
        "val_loss_2ndStage_dynamic = result_2ndStatge_dynamic.history['val_loss']\n",
        "\n",
        "#Plotting the loss\n",
        "plt.plot(train_loss_2ndStage_dynamic , 'b', label=\"Train Loss\" )\n",
        "plt.plot(val_loss_2ndStage_dynamic , 'g', label=\"Validation Loss\")\n",
        "plt.xlabel('Epochs')\n",
        "plt.ylabel('Categorical CrossEntropy')\n",
        "plt.title('Multi Class Classifier - Dynamic - 2nd Stage')\n",
        "plt.legend()\n",
        "plt.show()"
      ],
      "execution_count": null,
      "outputs": [
        {
          "output_type": "display_data",
          "data": {
            "image/png": "[encoded data removed]",
            "text/plain": [
              "<Figure size 432x288 with 1 Axes>"
            ]
          },
          "metadata": {
            "tags": [],
            "needs_background": "light"
          }
        }
      ]
    },
    {
      "cell_type": "code",
      "metadata": {
        "id": "hddYrnNtoYxA",
        "colab_type": "code",
        "colab": {}
      },
      "source": [
        "model_2ndStage_dynamic.save('/content/drive/My Drive/Human Activity Recognition/HAR/Model_2ndStage_Dynamic.h5')"
      ],
      "execution_count": null,
      "outputs": []
    },
    {
      "cell_type": "markdown",
      "metadata": {
        "id": "uhEgydIsmNyj",
        "colab_type": "text"
      },
      "source": [
        "##### Final Model : Stacked all the classifiers :"
      ]
    },
    {
      "cell_type": "code",
      "metadata": {
        "id": "R-GI5KYboZWn",
        "colab_type": "code",
        "colab": {}
      },
      "source": [
        "def _read_csv(filename):\n",
        "    return pd.read_csv(filename, delim_whitespace=True, header=None)\n",
        "\n",
        "# Utility function to load the load\n",
        "def load_signals(subset):\n",
        "    signals_data = []\n",
        "\n",
        "    for signal in SIGNALS:\n",
        "        filename = f'/content/drive/My Drive/Human Activity Recognition/HAR/UCI_HAR_Dataset/{subset}/Inertial Signals/{signal}_{subset}.txt'\n",
        "        signals_data.append(\n",
        "            _read_csv(filename).to_numpy()\n",
        "        ) \n",
        "\n",
        "    return np.transpose(signals_data, (1, 2, 0))\n",
        "\n",
        "def load_y(subset):\n",
        "    \"\"\"\n",
        "    The objective that we are trying to predict is a integer, from 1 to 6,\n",
        "    that represents a human activity. We return a binary representation of \n",
        "    every sample objective as a 6 bits vector using One Hot Encoding\n",
        "    (https://pandas.pydata.org/pandas-docs/stable/generated/pandas.get_dummies.html)\n",
        "    \"\"\"\n",
        "    filename = f'/content/drive/My Drive/Human Activity Recognition/HAR/UCI_HAR_Dataset/{subset}/y_{subset}.txt'\n",
        "    y = _read_csv(filename)[0]\n",
        "\n",
        "    return pd.get_dummies(y).to_numpy()\n",
        "def load_data():\n",
        "    \"\"\"\n",
        "    Obtain the dataset from multiple files.\n",
        "    Returns: X_train, X_test, y_train, y_test\n",
        "    \"\"\"\n",
        "    X_train, X_test = load_signals('train'), load_signals('test')\n",
        "    y_train, y_test = load_y('train'), load_y('test')\n",
        "\n",
        "    return X_train, X_test, y_train, y_test"
      ],
      "execution_count": null,
      "outputs": []
    },
    {
      "cell_type": "code",
      "metadata": {
        "id": "FqQH1oSooZNV",
        "colab_type": "code",
        "colab": {
          "base_uri": "https://localhost:8080/",
          "height": 85
        },
        "outputId": "4ffdc839-591d-4d16-aba7-b7807be864bd"
      },
      "source": [
        "X_Train_final, X_Test_final, Y_Train_final, Y_Test_final = load_data()\n",
        "print(\"X train shape :\",X_Train_final.shape)\n",
        "print(\"X test shape :\",X_Test_final.shape)\n",
        "print(\"Y train shape :\",Y_Train_final.shape)\n",
        "print(\"Y train shape :\",Y_Test_final.shape)"
      ],
      "execution_count": null,
      "outputs": [
        {
          "output_type": "stream",
          "text": [
            "X train shape : (7352, 128, 9)\n",
            "X test shape : (2947, 128, 9)\n",
            "Y train shape : (7352, 6)\n",
            "Y train shape : (2947, 6)\n"
          ],
          "name": "stdout"
        }
      ]
    },
    {
      "cell_type": "code",
      "metadata": {
        "id": "xPWT5O4YrjT0",
        "colab_type": "code",
        "colab": {}
      },
      "source": [
        "import warnings\n",
        "warnings.filterwarnings(\"ignore\")\n",
        "from scipy import ndimage"
      ],
      "execution_count": null,
      "outputs": []
    },
    {
      "cell_type": "markdown",
      "metadata": {
        "id": "xq2WQGuYmlux",
        "colab_type": "text"
      },
      "source": [
        "###### Sharpening Test Data with Sigma = 8 and Alpha = 0.07 "
      ]
    },
    {
      "cell_type": "code",
      "metadata": {
        "id": "ZF3WOdeDoZA6",
        "colab_type": "code",
        "colab": {}
      },
      "source": [
        "def sharpen_TestData(x_test, sigma, alpha):\n",
        "    d = x_test.shape[0]\n",
        "    r = x_test.shape[1]\n",
        "    c = x_test.shape[2]\n",
        "    final_sharpened_data = np.empty((d,r, c))\n",
        "    i = 0\n",
        "\n",
        "    for row in x_test:\n",
        "        test = row\n",
        "        blurred = ndimage.gaussian_filter(test, sigma)\n",
        "        sharpened = test + alpha * (test - blurred)\n",
        "        final_sharpened_data[i] = sharpened\n",
        "        i = i + 1\n",
        "    return final_sharpened_data"
      ],
      "execution_count": null,
      "outputs": []
    },
    {
      "cell_type": "markdown",
      "metadata": {
        "id": "ZlQ6sfpRpLUM",
        "colab_type": "text"
      },
      "source": [
        "###### Predicting the static and dynamic classes from the Test Data"
      ]
    },
    {
      "cell_type": "code",
      "metadata": {
        "id": "BOLmhBWJoZDk",
        "colab_type": "code",
        "colab": {}
      },
      "source": [
        "Y_Pred_binary = model_1stStage_binary.predict_classes(X_Test_final)"
      ],
      "execution_count": null,
      "outputs": []
    },
    {
      "cell_type": "code",
      "metadata": {
        "id": "U-J_t1ETrLLQ",
        "colab_type": "code",
        "colab": {}
      },
      "source": [
        "X_Test_final_static = X_Test_final[Y_Pred_binary>0] # Static Class X\n",
        "X_Test_final_dynamic = X_Test_final[Y_Pred_binary<1] # Dynamic Class X"
      ],
      "execution_count": null,
      "outputs": []
    },
    {
      "cell_type": "code",
      "metadata": {
        "id": "kEMa8yx_rL-_",
        "colab_type": "code",
        "colab": {}
      },
      "source": [
        "Y_Test_Final_static = Y_Test_final[Y_Pred_binary>0] # Static Class Y\n",
        "Y_Test_Final_dynamic = Y_Test_final[Y_Pred_binary<1] # Dynamic Class Y"
      ],
      "execution_count": null,
      "outputs": []
    },
    {
      "cell_type": "code",
      "metadata": {
        "id": "IUEJwxbbrLzU",
        "colab_type": "code",
        "colab": {}
      },
      "source": [
        "Y_Test = np.concatenate([Y_Test_Final_static,Y_Test_Final_dynamic]) # FINAL Y_TEST"
      ],
      "execution_count": null,
      "outputs": []
    },
    {
      "cell_type": "code",
      "metadata": {
        "id": "iVxRzfPXweVg",
        "colab_type": "code",
        "colab": {}
      },
      "source": [
        "X_Test_final_static_sharpen = sharpen_TestData(X_Test_final_static,8,0.07) #Sharpening Test Data X\n",
        "X_Test_final_dynamic_sharpen = sharpen_TestData(X_Test_final_dynamic,8,0.07) #Sharpening Test Data X"
      ],
      "execution_count": null,
      "outputs": []
    },
    {
      "cell_type": "markdown",
      "metadata": {
        "id": "h28MenOcpxvs",
        "colab_type": "text"
      },
      "source": [
        "###### Predicting Static Classes using the Model for Static Data CLassification.\n",
        "Predicting Dynamic Classes using the Model for Dynamic Data Classification."
      ]
    },
    {
      "cell_type": "code",
      "metadata": {
        "id": "9AmVcxS4w3UG",
        "colab_type": "code",
        "colab": {}
      },
      "source": [
        "Y_Pred_static = model_2ndStage_static.predict_classes(X_Test_final_static_sharpen)+3 #Static\n",
        "Y_Pred_dynamic = model_2ndStage_dynamic.predict_classes(X_Test_final_dynamic_sharpen) #Dynamic"
      ],
      "execution_count": null,
      "outputs": []
    },
    {
      "cell_type": "code",
      "metadata": {
        "id": "MnIIy-AvtBO2",
        "colab_type": "code",
        "colab": {}
      },
      "source": [
        "Y_Pred = np.concatenate([Y_Pred_static,Y_Pred_dynamic]) #Final Predicted Y"
      ],
      "execution_count": null,
      "outputs": []
    },
    {
      "cell_type": "markdown",
      "metadata": {
        "id": "X0YWLk_BqOAL",
        "colab_type": "text"
      },
      "source": [
        "###### Final Accuracy of the Stacked Model of the Divide and Conquer Method :"
      ]
    },
    {
      "cell_type": "code",
      "metadata": {
        "id": "-Wor_kRPtaad",
        "colab_type": "code",
        "colab": {}
      },
      "source": [
        "from sklearn.metrics import accuracy_score,confusion_matrix"
      ],
      "execution_count": null,
      "outputs": []
    },
    {
      "cell_type": "code",
      "metadata": {
        "id": "Xijij_MstBAJ",
        "colab_type": "code",
        "colab": {
          "base_uri": "https://localhost:8080/",
          "height": 34
        },
        "outputId": "7f6f3ad0-d542-4ebf-8a30-4eb6111cb6ff"
      },
      "source": [
        "final_accuracy = accuracy_score(np.argmax(Y_Test,axis=1),Y_Pred)\n",
        "print(\"Accuracy Using Divide and Conquer Method->\",final_accuracy)"
      ],
      "execution_count": null,
      "outputs": [
        {
          "output_type": "stream",
          "text": [
            "Accuracy Using Divide and Conquer Method-> 0.9300984051577876\n"
          ],
          "name": "stdout"
        }
      ]
    },
    {
      "cell_type": "markdown",
      "metadata": {
        "id": "U7Ac-jNbkwjV",
        "colab_type": "text"
      },
      "source": [
        "### FINAL OBSERVATIONS FROM 9 LSTM MODELS BUILT :"
      ]
    },
    {
      "cell_type": "code",
      "metadata": {
        "id": "QaW7U425iuiB",
        "colab_type": "code",
        "colab": {
          "base_uri": "https://localhost:8080/",
          "height": 272
        },
        "outputId": "608d335b-667e-4995-bf8d-abbc3c7e15bb"
      },
      "source": [
        "from prettytable import PrettyTable\n",
        "\n",
        "print('\\n')\n",
        "a = PrettyTable()\n",
        "a.field_names = ['Model','Optimizer','LSTM Units', 'LSTM Layers', 'Drop Out', 'Test Loss','Test Accuracy (%)']\n",
        "a.add_row(['Model 1','Rmsprop',32, 1, 0.5, 0.32, 90.2]) \n",
        "a.add_row(['Model 2','Adam',64, 1, 0.25, 0.36, 91.2])\n",
        "a.add_row(['Model 3','Adam',100, 2, 0.5, 0.36, 91.2])\n",
        "a.add_row(['Model 4','Adam',64, 3, 0.5, 0.59, 72.85])\n",
        "a.add_row(['Model 5','Adam',32, 1, 0.5, 0.31, 89.5]) \n",
        "a.add_row(['Model 6','Rmsprop',64, 1, 0.75, 0.41, 91.2]) \n",
        "a.add_row(['Model 7','Adam',64, 2, 0.5, 0.39, 89.2])\n",
        "a.add_row(['Model 8','Adam',150, 2, 0.5, 0.27, 91.8])\n",
        "a.add_row(['Model 9','Adam',200, 2, 0.5, 1.78, 18.22])\n",
        "print(a)"
      ],
      "execution_count": null,
      "outputs": [
        {
          "output_type": "stream",
          "text": [
            "\n",
            "\n",
            "+---------+-----------+------------+-------------+----------+-----------+-------------------+\n",
            "|  Model  | Optimizer | LSTM Units | LSTM Layers | Drop Out | Test Loss | Test Accuracy (%) |\n",
            "+---------+-----------+------------+-------------+----------+-----------+-------------------+\n",
            "| Model 1 |  Rmsprop  |     32     |      1      |   0.5    |    0.32   |        90.2       |\n",
            "| Model 2 |    Adam   |     64     |      1      |   0.25   |    0.36   |        91.2       |\n",
            "| Model 3 |    Adam   |    100     |      2      |   0.5    |    0.36   |        91.2       |\n",
            "| Model 4 |    Adam   |     64     |      3      |   0.5    |    0.59   |       72.85       |\n",
            "| Model 5 |    Adam   |     32     |      1      |   0.5    |    0.31   |        89.5       |\n",
            "| Model 6 |  Rmsprop  |     64     |      1      |   0.75   |    0.41   |        91.2       |\n",
            "| Model 7 |    Adam   |     64     |      2      |   0.5    |    0.39   |        89.2       |\n",
            "| Model 8 |    Adam   |    150     |      2      |   0.5    |    0.27   |        91.8       |\n",
            "| Model 9 |    Adam   |    200     |      2      |   0.5    |    1.78   |       18.22       |\n",
            "+---------+-----------+------------+-------------+----------+-----------+-------------------+\n"
          ],
          "name": "stdout"
        }
      ]
    },
    {
      "cell_type": "markdown",
      "metadata": {
        "id": "5h2ieDOYk66X",
        "colab_type": "text"
      },
      "source": [
        "We built 9 models where the best accuracy is 91.8% and the best loss is 0.27 for a 2 layer LSTM with 150 hidden units (Model 8). The worst accuracy came from Model 9 at 18.22%. This model was heavily overfitting with a high loss of 1.78.\n",
        "\n",
        "We saw as the number of layer increases ( from 2 layers to 3 layers ), the model performance decreases dratically ( Model 4 ). "
      ]
    },
    {
      "cell_type": "markdown",
      "metadata": {
        "id": "m84wijlIkphf",
        "colab_type": "text"
      },
      "source": [
        "### DIVIDE AND CONQUER METHOD OBSERVATIONS :"
      ]
    },
    {
      "cell_type": "code",
      "metadata": {
        "id": "JlpavlqejOwF",
        "colab_type": "code",
        "colab": {
          "base_uri": "https://localhost:8080/",
          "height": 187
        },
        "outputId": "041ccff8-8fcc-4348-ddae-df6d6a4cbf25"
      },
      "source": [
        "print('\\n')\n",
        "a = PrettyTable()\n",
        "a.field_names = ['Model','Test Accuracy (%)']\n",
        "a.add_row(['Model 1 - Binary Classification', 99.8033]) \n",
        "a.add_row(['Model 2 - Static Classification',88.9743])\n",
        "a.add_row(['Model 3 - Dynamic Classification', 96.6113])\n",
        "a.add_row(['Stacked Model', 93.0098])\n",
        "\n",
        "print(a)"
      ],
      "execution_count": null,
      "outputs": [
        {
          "output_type": "stream",
          "text": [
            "\n",
            "\n",
            "+----------------------------------+-------------------+\n",
            "|              Model               | Test Accuracy (%) |\n",
            "+----------------------------------+-------------------+\n",
            "| Model 1 - Binary Classification  |      99.8033      |\n",
            "| Model 2 - Static Classification  |      88.9743      |\n",
            "| Model 3 - Dynamic Classification |      96.6113      |\n",
            "|          Stacked Model           |      93.0098      |\n",
            "+----------------------------------+-------------------+\n"
          ],
          "name": "stdout"
        }
      ]
    },
    {
      "cell_type": "markdown",
      "metadata": {
        "id": "8uUukdHrk6Dd",
        "colab_type": "text"
      },
      "source": [
        "We tried using Divide and Rule Approach, which is a 2 stage classification method. It is converting one 6-class classification into two 3 class classification method thereby identifying the static activities ( Standing, Sitting, Laying ) and dynamic activites ( Walking, Walking Downstairs, Walking Upstairs ) separately. \n",
        "\n",
        "We used Adam optimizer with different learning rates for different models ( 0.0001 for static and 0.0004 for dynamic). \n",
        "\n",
        "We also did test data sharpening with sigma = 8 and alpha = 0.07. These values are taken directly from the research paper though we did try out a lot different values but the best results came for these only.\n",
        "\n",
        "Finally the stacked model gave the best accuracy till now.\n"
      ]
    }
  ]
}